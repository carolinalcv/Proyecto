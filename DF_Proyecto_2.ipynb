{
  "nbformat": 4,
  "nbformat_minor": 0,
  "metadata": {
    "colab": {
      "provenance": [],
      "authorship_tag": "ABX9TyMcWfDGV9hCxMTNY2VngXZV",
      "include_colab_link": true
    },
    "kernelspec": {
      "name": "python3",
      "display_name": "Python 3"
    },
    "language_info": {
      "name": "python"
    }
  },
  "cells": [
    {
      "cell_type": "markdown",
      "metadata": {
        "id": "view-in-github",
        "colab_type": "text"
      },
      "source": [
        "<a href=\"https://colab.research.google.com/github/carolinalcv/Proyecto/blob/main/DF_Proyecto_2.ipynb\" target=\"_parent\"><img src=\"https://colab.research.google.com/assets/colab-badge.svg\" alt=\"Open In Colab\"/></a>"
      ]
    },
    {
      "cell_type": "markdown",
      "source": [
        "1) Fuente de datos\n",
        "https://www.kaggle.com/datasets/milanvaddoriya/old-car-price-prediction\n",
        "2) Breve descripción de datos\n",
        "Este conjunto de datos contiene información sobre el nombre del automóvil antiguo, los kilómetros recorridos, el tipo de combustible, el tipo de transmisión, el año de fabricación, el CC del motor, el número de asientos, etc. y podemos usarlo para el problema de predicción del precio del automóvil antiguo.\n",
        "3) ¿Cuál es el objetivo?\n",
        "Predecir el precio de los carros\n",
        "4) ¿Este es un problema de clasificación o regresión?\n",
        "Regresión\n",
        "5) ¿Cuántas características hay?\n",
        "10\n",
        "6) ¿Cuántas filas de datos hay?\n",
        "5511\n",
        "7) ¿Qué retos, si es que hay alguno, prevén en la limpieza, exploración o modelización con este conjunto de datos?\n",
        "La característica de car name podría tener uchos datos diferentes, y al ser string podría dificultar el proceso de OneHotEncoder.Por otro lado, ninguna columna es numérica, así que el proceso de limpieza de datos se pdoría dificultar. "
      ],
      "metadata": {
        "id": "jpxr-GC0cqms"
      }
    }
  ]
}