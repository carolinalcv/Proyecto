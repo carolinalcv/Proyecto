{
  "cells": [
    {
      "cell_type": "markdown",
      "metadata": {
        "id": "view-in-github",
        "colab_type": "text"
      },
      "source": [
        "<a href=\"https://colab.research.google.com/github/carolinalcv/Proyecto/blob/main/Proyecto2.ipynb\" target=\"_parent\"><img src=\"https://colab.research.google.com/assets/colab-badge.svg\" alt=\"Open In Colab\"/></a>"
      ]
    },
    {
      "cell_type": "markdown",
      "id": "ccc005e4",
      "metadata": {
        "id": "ccc005e4"
      },
      "source": [
        "<a href=\"https://colab.research.google.com/github/fralfaro/CodingDojo-DataScience/blob/main/template_proyecto/template.ipynb\" target=\"_parent\"><img src=\"https://colab.research.google.com/assets/colab-badge.svg\" alt=\"Open In Colab\"/></a>\n",
        "\n",
        "# Proyecto 2\n",
        "\n",
        "## Datos Personales\n",
        "\n",
        "* **Nombre Completo**: Carolina Leguizamón\n",
        "* **ID Coding Dojo**: 0000179745\n",
        "* **Track**: Machine Learning"
      ]
    },
    {
      "cell_type": "markdown",
      "id": "eb011589",
      "metadata": {
        "id": "eb011589"
      },
      "source": [
        "## Descripción del Problema\n",
        "\n",
        "Se requiere predecir el precio de los carros con base en la información del dataset. \n",
        "\n",
        "### Descripción del Conjunto de Datos\n",
        "\n",
        "|   | car_name                               | car_prices_in_rupee | kms_driven | fuel_type | transmission | ownership | manufacture | engine  | Seats   |\n",
        "|---|----------------------------------------|---------------------|------------|-----------|--------------|-----------|-------------|---------|---------|\n",
        "| 0 | Jeep Compass 2.0 Longitude Option BSIV | 10.03 Lakh          | 86,226 kms | Diesel    | Manual       | 1st Owner | 2017        | 1956 cc | 5 Seats |\n",
        "| 1 | Renault Duster RXZ Turbo CVT           | 12.83 Lakh          | 13,248 kms | Petrol    | Automatic    | 1st Owner | 2021        | 1330 cc | 5 Seats |"
      ]
    },
    {
      "cell_type": "markdown",
      "id": "bd05e80d",
      "metadata": {
        "id": "bd05e80d"
      },
      "source": [
        "## Solución"
      ]
    },
    {
      "cell_type": "code",
      "execution_count": 479,
      "id": "2f2af813",
      "metadata": {
        "id": "2f2af813"
      },
      "outputs": [],
      "source": [
        "# librerias\n",
        " \n",
        "import numpy as np\n",
        "import pandas as pd\n",
        "\n",
        "import matplotlib.pyplot as plt\n",
        "import seaborn as sns \n",
        "\n",
        "from sklearn import datasets\n",
        "from sklearn.model_selection import train_test_split\n",
        "from sklearn.linear_model import LinearRegression\n",
        "\n",
        "# Ver gráficos de matplotlib en jupyter notebook/lab\n",
        "%matplotlib inline"
      ]
    },
    {
      "cell_type": "code",
      "source": [
        "#Google Colab\n",
        "from google.colab import drive\n",
        "df = pd.read_csv(\"/content/car_price.csv\")\n",
        "df.head()"
      ],
      "metadata": {
        "colab": {
          "base_uri": "https://localhost:8080/",
          "height": 406
        },
        "id": "mCx7AagdgeDD",
        "outputId": "fbc6284c-d542-4777-80da-d1d16b87cd2c"
      },
      "id": "mCx7AagdgeDD",
      "execution_count": 480,
      "outputs": [
        {
          "output_type": "execute_result",
          "data": {
            "text/plain": [
              "   Unnamed: 0                                car_name car_prices_in_rupee  \\\n",
              "0           0  Jeep Compass 2.0 Longitude Option BSIV          10.03 Lakh   \n",
              "1           1            Renault Duster RXZ Turbo CVT          12.83 Lakh   \n",
              "2           2                      Toyota Camry 2.5 G          16.40 Lakh   \n",
              "3           3                       Honda Jazz VX CVT           7.77 Lakh   \n",
              "4           4        Volkswagen Polo 1.2 MPI Highline           5.15 Lakh   \n",
              "\n",
              "   kms_driven fuel_type transmission  ownership  manufacture   engine    Seats  \n",
              "0  86,226 kms    Diesel       Manual  1st Owner         2017  1956 cc  5 Seats  \n",
              "1  13,248 kms    Petrol    Automatic  1st Owner         2021  1330 cc  5 Seats  \n",
              "2  60,343 kms    Petrol    Automatic  1st Owner         2016  2494 cc  5 Seats  \n",
              "3  26,696 kms    Petrol    Automatic  1st Owner         2018  1199 cc  5 Seats  \n",
              "4  69,414 kms    Petrol       Manual  1st Owner         2016  1199 cc  5 Seats  "
            ],
            "text/html": [
              "\n",
              "  <div id=\"df-31b4b0a7-a44c-4c21-a061-2f7e61a911d2\">\n",
              "    <div class=\"colab-df-container\">\n",
              "      <div>\n",
              "<style scoped>\n",
              "    .dataframe tbody tr th:only-of-type {\n",
              "        vertical-align: middle;\n",
              "    }\n",
              "\n",
              "    .dataframe tbody tr th {\n",
              "        vertical-align: top;\n",
              "    }\n",
              "\n",
              "    .dataframe thead th {\n",
              "        text-align: right;\n",
              "    }\n",
              "</style>\n",
              "<table border=\"1\" class=\"dataframe\">\n",
              "  <thead>\n",
              "    <tr style=\"text-align: right;\">\n",
              "      <th></th>\n",
              "      <th>Unnamed: 0</th>\n",
              "      <th>car_name</th>\n",
              "      <th>car_prices_in_rupee</th>\n",
              "      <th>kms_driven</th>\n",
              "      <th>fuel_type</th>\n",
              "      <th>transmission</th>\n",
              "      <th>ownership</th>\n",
              "      <th>manufacture</th>\n",
              "      <th>engine</th>\n",
              "      <th>Seats</th>\n",
              "    </tr>\n",
              "  </thead>\n",
              "  <tbody>\n",
              "    <tr>\n",
              "      <th>0</th>\n",
              "      <td>0</td>\n",
              "      <td>Jeep Compass 2.0 Longitude Option BSIV</td>\n",
              "      <td>10.03 Lakh</td>\n",
              "      <td>86,226 kms</td>\n",
              "      <td>Diesel</td>\n",
              "      <td>Manual</td>\n",
              "      <td>1st Owner</td>\n",
              "      <td>2017</td>\n",
              "      <td>1956 cc</td>\n",
              "      <td>5 Seats</td>\n",
              "    </tr>\n",
              "    <tr>\n",
              "      <th>1</th>\n",
              "      <td>1</td>\n",
              "      <td>Renault Duster RXZ Turbo CVT</td>\n",
              "      <td>12.83 Lakh</td>\n",
              "      <td>13,248 kms</td>\n",
              "      <td>Petrol</td>\n",
              "      <td>Automatic</td>\n",
              "      <td>1st Owner</td>\n",
              "      <td>2021</td>\n",
              "      <td>1330 cc</td>\n",
              "      <td>5 Seats</td>\n",
              "    </tr>\n",
              "    <tr>\n",
              "      <th>2</th>\n",
              "      <td>2</td>\n",
              "      <td>Toyota Camry 2.5 G</td>\n",
              "      <td>16.40 Lakh</td>\n",
              "      <td>60,343 kms</td>\n",
              "      <td>Petrol</td>\n",
              "      <td>Automatic</td>\n",
              "      <td>1st Owner</td>\n",
              "      <td>2016</td>\n",
              "      <td>2494 cc</td>\n",
              "      <td>5 Seats</td>\n",
              "    </tr>\n",
              "    <tr>\n",
              "      <th>3</th>\n",
              "      <td>3</td>\n",
              "      <td>Honda Jazz VX CVT</td>\n",
              "      <td>7.77 Lakh</td>\n",
              "      <td>26,696 kms</td>\n",
              "      <td>Petrol</td>\n",
              "      <td>Automatic</td>\n",
              "      <td>1st Owner</td>\n",
              "      <td>2018</td>\n",
              "      <td>1199 cc</td>\n",
              "      <td>5 Seats</td>\n",
              "    </tr>\n",
              "    <tr>\n",
              "      <th>4</th>\n",
              "      <td>4</td>\n",
              "      <td>Volkswagen Polo 1.2 MPI Highline</td>\n",
              "      <td>5.15 Lakh</td>\n",
              "      <td>69,414 kms</td>\n",
              "      <td>Petrol</td>\n",
              "      <td>Manual</td>\n",
              "      <td>1st Owner</td>\n",
              "      <td>2016</td>\n",
              "      <td>1199 cc</td>\n",
              "      <td>5 Seats</td>\n",
              "    </tr>\n",
              "  </tbody>\n",
              "</table>\n",
              "</div>\n",
              "      <button class=\"colab-df-convert\" onclick=\"convertToInteractive('df-31b4b0a7-a44c-4c21-a061-2f7e61a911d2')\"\n",
              "              title=\"Convert this dataframe to an interactive table.\"\n",
              "              style=\"display:none;\">\n",
              "        \n",
              "  <svg xmlns=\"http://www.w3.org/2000/svg\" height=\"24px\"viewBox=\"0 0 24 24\"\n",
              "       width=\"24px\">\n",
              "    <path d=\"M0 0h24v24H0V0z\" fill=\"none\"/>\n",
              "    <path d=\"M18.56 5.44l.94 2.06.94-2.06 2.06-.94-2.06-.94-.94-2.06-.94 2.06-2.06.94zm-11 1L8.5 8.5l.94-2.06 2.06-.94-2.06-.94L8.5 2.5l-.94 2.06-2.06.94zm10 10l.94 2.06.94-2.06 2.06-.94-2.06-.94-.94-2.06-.94 2.06-2.06.94z\"/><path d=\"M17.41 7.96l-1.37-1.37c-.4-.4-.92-.59-1.43-.59-.52 0-1.04.2-1.43.59L10.3 9.45l-7.72 7.72c-.78.78-.78 2.05 0 2.83L4 21.41c.39.39.9.59 1.41.59.51 0 1.02-.2 1.41-.59l7.78-7.78 2.81-2.81c.8-.78.8-2.07 0-2.86zM5.41 20L4 18.59l7.72-7.72 1.47 1.35L5.41 20z\"/>\n",
              "  </svg>\n",
              "      </button>\n",
              "      \n",
              "  <style>\n",
              "    .colab-df-container {\n",
              "      display:flex;\n",
              "      flex-wrap:wrap;\n",
              "      gap: 12px;\n",
              "    }\n",
              "\n",
              "    .colab-df-convert {\n",
              "      background-color: #E8F0FE;\n",
              "      border: none;\n",
              "      border-radius: 50%;\n",
              "      cursor: pointer;\n",
              "      display: none;\n",
              "      fill: #1967D2;\n",
              "      height: 32px;\n",
              "      padding: 0 0 0 0;\n",
              "      width: 32px;\n",
              "    }\n",
              "\n",
              "    .colab-df-convert:hover {\n",
              "      background-color: #E2EBFA;\n",
              "      box-shadow: 0px 1px 2px rgba(60, 64, 67, 0.3), 0px 1px 3px 1px rgba(60, 64, 67, 0.15);\n",
              "      fill: #174EA6;\n",
              "    }\n",
              "\n",
              "    [theme=dark] .colab-df-convert {\n",
              "      background-color: #3B4455;\n",
              "      fill: #D2E3FC;\n",
              "    }\n",
              "\n",
              "    [theme=dark] .colab-df-convert:hover {\n",
              "      background-color: #434B5C;\n",
              "      box-shadow: 0px 1px 3px 1px rgba(0, 0, 0, 0.15);\n",
              "      filter: drop-shadow(0px 1px 2px rgba(0, 0, 0, 0.3));\n",
              "      fill: #FFFFFF;\n",
              "    }\n",
              "  </style>\n",
              "\n",
              "      <script>\n",
              "        const buttonEl =\n",
              "          document.querySelector('#df-31b4b0a7-a44c-4c21-a061-2f7e61a911d2 button.colab-df-convert');\n",
              "        buttonEl.style.display =\n",
              "          google.colab.kernel.accessAllowed ? 'block' : 'none';\n",
              "\n",
              "        async function convertToInteractive(key) {\n",
              "          const element = document.querySelector('#df-31b4b0a7-a44c-4c21-a061-2f7e61a911d2');\n",
              "          const dataTable =\n",
              "            await google.colab.kernel.invokeFunction('convertToInteractive',\n",
              "                                                     [key], {});\n",
              "          if (!dataTable) return;\n",
              "\n",
              "          const docLinkHtml = 'Like what you see? Visit the ' +\n",
              "            '<a target=\"_blank\" href=https://colab.research.google.com/notebooks/data_table.ipynb>data table notebook</a>'\n",
              "            + ' to learn more about interactive tables.';\n",
              "          element.innerHTML = '';\n",
              "          dataTable['output_type'] = 'display_data';\n",
              "          await google.colab.output.renderOutput(dataTable, element);\n",
              "          const docLink = document.createElement('div');\n",
              "          docLink.innerHTML = docLinkHtml;\n",
              "          element.appendChild(docLink);\n",
              "        }\n",
              "      </script>\n",
              "    </div>\n",
              "  </div>\n",
              "  "
            ]
          },
          "metadata": {},
          "execution_count": 480
        }
      ]
    },
    {
      "cell_type": "markdown",
      "id": "189e133c",
      "metadata": {
        "id": "189e133c"
      },
      "source": [
        "### I.- Análisis Exploratorio"
      ]
    },
    {
      "cell_type": "markdown",
      "id": "7e6600f4",
      "metadata": {
        "id": "7e6600f4"
      },
      "source": [
        "**Manipulación de datos**"
      ]
    },
    {
      "cell_type": "code",
      "execution_count": 481,
      "id": "0b06bb13",
      "metadata": {
        "id": "0b06bb13",
        "colab": {
          "base_uri": "https://localhost:8080/"
        },
        "outputId": "c63c42e9-4bc7-4ecc-8179-64faa94b2db1"
      },
      "outputs": [
        {
          "output_type": "stream",
          "name": "stdout",
          "text": [
            "<class 'pandas.core.frame.DataFrame'>\n",
            "RangeIndex: 5512 entries, 0 to 5511\n",
            "Data columns (total 10 columns):\n",
            " #   Column               Non-Null Count  Dtype \n",
            "---  ------               --------------  ----- \n",
            " 0   Unnamed: 0           5512 non-null   int64 \n",
            " 1   car_name             5512 non-null   object\n",
            " 2   car_prices_in_rupee  5512 non-null   object\n",
            " 3   kms_driven           5512 non-null   object\n",
            " 4   fuel_type            5512 non-null   object\n",
            " 5   transmission         5512 non-null   object\n",
            " 6   ownership            5512 non-null   object\n",
            " 7   manufacture          5512 non-null   int64 \n",
            " 8   engine               5512 non-null   object\n",
            " 9   Seats                5512 non-null   object\n",
            "dtypes: int64(2), object(8)\n",
            "memory usage: 430.8+ KB\n"
          ]
        },
        {
          "output_type": "execute_result",
          "data": {
            "text/plain": [
              "(5512, 10)"
            ]
          },
          "metadata": {},
          "execution_count": 481
        }
      ],
      "source": [
        "#Analizo los datos de manera general\n",
        "df.info()\n",
        "df.shape"
      ]
    },
    {
      "cell_type": "code",
      "source": [
        "df.describe()"
      ],
      "metadata": {
        "colab": {
          "base_uri": "https://localhost:8080/",
          "height": 300
        },
        "id": "Wa7TPQf9ioaE",
        "outputId": "d1d4025b-1d38-41e1-fdec-0f65143c711b"
      },
      "id": "Wa7TPQf9ioaE",
      "execution_count": 482,
      "outputs": [
        {
          "output_type": "execute_result",
          "data": {
            "text/plain": [
              "        Unnamed: 0  manufacture\n",
              "count  5512.000000  5512.000000\n",
              "mean   2755.500000  2015.455552\n",
              "std    1591.321673     3.927974\n",
              "min       0.000000  1995.000000\n",
              "25%    1377.750000  2013.000000\n",
              "50%    2755.500000  2016.000000\n",
              "75%    4133.250000  2018.000000\n",
              "max    5511.000000  2022.000000"
            ],
            "text/html": [
              "\n",
              "  <div id=\"df-cfc1829b-8ad7-48f2-a170-044856e4cdec\">\n",
              "    <div class=\"colab-df-container\">\n",
              "      <div>\n",
              "<style scoped>\n",
              "    .dataframe tbody tr th:only-of-type {\n",
              "        vertical-align: middle;\n",
              "    }\n",
              "\n",
              "    .dataframe tbody tr th {\n",
              "        vertical-align: top;\n",
              "    }\n",
              "\n",
              "    .dataframe thead th {\n",
              "        text-align: right;\n",
              "    }\n",
              "</style>\n",
              "<table border=\"1\" class=\"dataframe\">\n",
              "  <thead>\n",
              "    <tr style=\"text-align: right;\">\n",
              "      <th></th>\n",
              "      <th>Unnamed: 0</th>\n",
              "      <th>manufacture</th>\n",
              "    </tr>\n",
              "  </thead>\n",
              "  <tbody>\n",
              "    <tr>\n",
              "      <th>count</th>\n",
              "      <td>5512.000000</td>\n",
              "      <td>5512.000000</td>\n",
              "    </tr>\n",
              "    <tr>\n",
              "      <th>mean</th>\n",
              "      <td>2755.500000</td>\n",
              "      <td>2015.455552</td>\n",
              "    </tr>\n",
              "    <tr>\n",
              "      <th>std</th>\n",
              "      <td>1591.321673</td>\n",
              "      <td>3.927974</td>\n",
              "    </tr>\n",
              "    <tr>\n",
              "      <th>min</th>\n",
              "      <td>0.000000</td>\n",
              "      <td>1995.000000</td>\n",
              "    </tr>\n",
              "    <tr>\n",
              "      <th>25%</th>\n",
              "      <td>1377.750000</td>\n",
              "      <td>2013.000000</td>\n",
              "    </tr>\n",
              "    <tr>\n",
              "      <th>50%</th>\n",
              "      <td>2755.500000</td>\n",
              "      <td>2016.000000</td>\n",
              "    </tr>\n",
              "    <tr>\n",
              "      <th>75%</th>\n",
              "      <td>4133.250000</td>\n",
              "      <td>2018.000000</td>\n",
              "    </tr>\n",
              "    <tr>\n",
              "      <th>max</th>\n",
              "      <td>5511.000000</td>\n",
              "      <td>2022.000000</td>\n",
              "    </tr>\n",
              "  </tbody>\n",
              "</table>\n",
              "</div>\n",
              "      <button class=\"colab-df-convert\" onclick=\"convertToInteractive('df-cfc1829b-8ad7-48f2-a170-044856e4cdec')\"\n",
              "              title=\"Convert this dataframe to an interactive table.\"\n",
              "              style=\"display:none;\">\n",
              "        \n",
              "  <svg xmlns=\"http://www.w3.org/2000/svg\" height=\"24px\"viewBox=\"0 0 24 24\"\n",
              "       width=\"24px\">\n",
              "    <path d=\"M0 0h24v24H0V0z\" fill=\"none\"/>\n",
              "    <path d=\"M18.56 5.44l.94 2.06.94-2.06 2.06-.94-2.06-.94-.94-2.06-.94 2.06-2.06.94zm-11 1L8.5 8.5l.94-2.06 2.06-.94-2.06-.94L8.5 2.5l-.94 2.06-2.06.94zm10 10l.94 2.06.94-2.06 2.06-.94-2.06-.94-.94-2.06-.94 2.06-2.06.94z\"/><path d=\"M17.41 7.96l-1.37-1.37c-.4-.4-.92-.59-1.43-.59-.52 0-1.04.2-1.43.59L10.3 9.45l-7.72 7.72c-.78.78-.78 2.05 0 2.83L4 21.41c.39.39.9.59 1.41.59.51 0 1.02-.2 1.41-.59l7.78-7.78 2.81-2.81c.8-.78.8-2.07 0-2.86zM5.41 20L4 18.59l7.72-7.72 1.47 1.35L5.41 20z\"/>\n",
              "  </svg>\n",
              "      </button>\n",
              "      \n",
              "  <style>\n",
              "    .colab-df-container {\n",
              "      display:flex;\n",
              "      flex-wrap:wrap;\n",
              "      gap: 12px;\n",
              "    }\n",
              "\n",
              "    .colab-df-convert {\n",
              "      background-color: #E8F0FE;\n",
              "      border: none;\n",
              "      border-radius: 50%;\n",
              "      cursor: pointer;\n",
              "      display: none;\n",
              "      fill: #1967D2;\n",
              "      height: 32px;\n",
              "      padding: 0 0 0 0;\n",
              "      width: 32px;\n",
              "    }\n",
              "\n",
              "    .colab-df-convert:hover {\n",
              "      background-color: #E2EBFA;\n",
              "      box-shadow: 0px 1px 2px rgba(60, 64, 67, 0.3), 0px 1px 3px 1px rgba(60, 64, 67, 0.15);\n",
              "      fill: #174EA6;\n",
              "    }\n",
              "\n",
              "    [theme=dark] .colab-df-convert {\n",
              "      background-color: #3B4455;\n",
              "      fill: #D2E3FC;\n",
              "    }\n",
              "\n",
              "    [theme=dark] .colab-df-convert:hover {\n",
              "      background-color: #434B5C;\n",
              "      box-shadow: 0px 1px 3px 1px rgba(0, 0, 0, 0.15);\n",
              "      filter: drop-shadow(0px 1px 2px rgba(0, 0, 0, 0.3));\n",
              "      fill: #FFFFFF;\n",
              "    }\n",
              "  </style>\n",
              "\n",
              "      <script>\n",
              "        const buttonEl =\n",
              "          document.querySelector('#df-cfc1829b-8ad7-48f2-a170-044856e4cdec button.colab-df-convert');\n",
              "        buttonEl.style.display =\n",
              "          google.colab.kernel.accessAllowed ? 'block' : 'none';\n",
              "\n",
              "        async function convertToInteractive(key) {\n",
              "          const element = document.querySelector('#df-cfc1829b-8ad7-48f2-a170-044856e4cdec');\n",
              "          const dataTable =\n",
              "            await google.colab.kernel.invokeFunction('convertToInteractive',\n",
              "                                                     [key], {});\n",
              "          if (!dataTable) return;\n",
              "\n",
              "          const docLinkHtml = 'Like what you see? Visit the ' +\n",
              "            '<a target=\"_blank\" href=https://colab.research.google.com/notebooks/data_table.ipynb>data table notebook</a>'\n",
              "            + ' to learn more about interactive tables.';\n",
              "          element.innerHTML = '';\n",
              "          dataTable['output_type'] = 'display_data';\n",
              "          await google.colab.output.renderOutput(dataTable, element);\n",
              "          const docLink = document.createElement('div');\n",
              "          docLink.innerHTML = docLinkHtml;\n",
              "          element.appendChild(docLink);\n",
              "        }\n",
              "      </script>\n",
              "    </div>\n",
              "  </div>\n",
              "  "
            ]
          },
          "metadata": {},
          "execution_count": 482
        }
      ]
    },
    {
      "cell_type": "code",
      "source": [
        "df.isna().sum()"
      ],
      "metadata": {
        "colab": {
          "base_uri": "https://localhost:8080/"
        },
        "id": "q9wGrUb_i7NR",
        "outputId": "fdd14738-77e3-4413-bfdf-96f71488fc16"
      },
      "id": "q9wGrUb_i7NR",
      "execution_count": 483,
      "outputs": [
        {
          "output_type": "execute_result",
          "data": {
            "text/plain": [
              "Unnamed: 0             0\n",
              "car_name               0\n",
              "car_prices_in_rupee    0\n",
              "kms_driven             0\n",
              "fuel_type              0\n",
              "transmission           0\n",
              "ownership              0\n",
              "manufacture            0\n",
              "engine                 0\n",
              "Seats                  0\n",
              "dtype: int64"
            ]
          },
          "metadata": {},
          "execution_count": 483
        }
      ]
    },
    {
      "cell_type": "code",
      "source": [
        "#Reviso los datos de cada una de las columnas \n",
        "df[\"car_name\"].value_counts()"
      ],
      "metadata": {
        "colab": {
          "base_uri": "https://localhost:8080/"
        },
        "id": "JhcXF3Bli_YH",
        "outputId": "b63b8097-57ee-40cc-a3ca-093808cf0950"
      },
      "id": "JhcXF3Bli_YH",
      "execution_count": 484,
      "outputs": [
        {
          "output_type": "execute_result",
          "data": {
            "text/plain": [
              "Maruti Alto 800 LXI          53\n",
              "Maruti Swift VXI             46\n",
              "Maruti Wagon R VXI BS IV     43\n",
              "Maruti Swift Dzire VDI       42\n",
              "Maruti Swift Dzire VXI       42\n",
              "                             ..\n",
              "Tata New Safari XT            1\n",
              "Hyundai Creta 1.6 E Plus      1\n",
              "Toyota Etios 2014-2016 GD     1\n",
              "Mahindra Marazzo M8 8Str      1\n",
              "BMW M Series M4 Coupe         1\n",
              "Name: car_name, Length: 1896, dtype: int64"
            ]
          },
          "metadata": {},
          "execution_count": 484
        }
      ]
    },
    {
      "cell_type": "code",
      "source": [
        "df[\"car_prices_in_rupee\"].value_counts()"
      ],
      "metadata": {
        "colab": {
          "base_uri": "https://localhost:8080/"
        },
        "id": "TR_g8EyCmFLj",
        "outputId": "3bbe78dd-658d-483e-e8ac-943c8b282f1c"
      },
      "id": "TR_g8EyCmFLj",
      "execution_count": 485,
      "outputs": [
        {
          "output_type": "execute_result",
          "data": {
            "text/plain": [
              "4.50 Lakh     62\n",
              "3.50 Lakh     62\n",
              "3 Lakh        58\n",
              "6.50 Lakh     57\n",
              "5.50 Lakh     52\n",
              "              ..\n",
              "12.03 Lakh     1\n",
              "15.62 Lakh     1\n",
              "7.92 Lakh      1\n",
              "29.25 Lakh     1\n",
              "31.90 Lakh     1\n",
              "Name: car_prices_in_rupee, Length: 1300, dtype: int64"
            ]
          },
          "metadata": {},
          "execution_count": 485
        }
      ]
    },
    {
      "cell_type": "code",
      "source": [
        "#Esta columna la convertiré en float eliminando los strings\n",
        "#df[\"car_prices_in_rupee\"]=df[\"car_prices_in_rupee\"].str.replace(\"Lakh\",\"\")\n"
      ],
      "metadata": {
        "id": "P3BX5yIIvEDT"
      },
      "id": "P3BX5yIIvEDT",
      "execution_count": 486,
      "outputs": []
    },
    {
      "cell_type": "code",
      "source": [
        "#df[\"car_prices_in_rupee\"] = pd.to_numeric(df[\"car_prices_in_rupee\"], downcast=\"float\")\n",
        "#aún no se puede convertir en valor número por el error: ValueError: Unable to parse string \"1.10 Crore\" at position 119\n",
        "#El crore (cr)(del prácrito kroḍi) denota diez millones (10,000,000 o 107 en notación científica) y es igual a 100 lakhs \n",
        "#en el sistema de numeración india.\n",
        "\n",
        "#entonces hay que convertir los valores Crore para poder eliminar ese string\n"
      ],
      "metadata": {
        "id": "AJSmsZMXt5lr"
      },
      "id": "AJSmsZMXt5lr",
      "execution_count": 487,
      "outputs": []
    },
    {
      "cell_type": "code",
      "source": [
        "#primero creo otra columna \"currency\" y asigno la denominación de las monedas.\n",
        "df.loc[df[\"car_prices_in_rupee\"].str.contains(\"Lakh\"), \"currency\"] = \"Lakh\"\n",
        "df.loc[df[\"car_prices_in_rupee\"].str.contains(\"Crore\"), \"currency\"] = \"Crore\"\n",
        "df.loc[df[\"currency\"].isnull(), \"currency\"] = \"Rupias\""
      ],
      "metadata": {
        "id": "J9TU1IXl0A36"
      },
      "id": "J9TU1IXl0A36",
      "execution_count": 488,
      "outputs": []
    },
    {
      "cell_type": "code",
      "source": [
        "#luego, elimino los string de la columna car prices\n",
        "df[\"car_prices_in_rupee\"] = df[\"car_prices_in_rupee\"].str.replace(\"Lakh\", \"\")\n",
        "df[\"car_prices_in_rupee\"] = df[\"car_prices_in_rupee\"].str.replace(\"Crore\", \"\")\n"
      ],
      "metadata": {
        "id": "RdoreHSFTgtq"
      },
      "id": "RdoreHSFTgtq",
      "execution_count": 489,
      "outputs": []
    },
    {
      "cell_type": "code",
      "source": [
        "#convierto los valores en flotantes\n",
        "df[\"car_prices_in_rupee\"] = df[\"car_prices_in_rupee\"].str.replace(\",\", \"\")\n",
        "df[\"car_prices_in_rupee\"] = df[\"car_prices_in_rupee\"].astype(float)\n"
      ],
      "metadata": {
        "id": "Gp8joaeJZJ0A"
      },
      "id": "Gp8joaeJZJ0A",
      "execution_count": 490,
      "outputs": []
    },
    {
      "cell_type": "code",
      "source": [
        "# en donde la columa currency sea x le pido que haga la respectiva conversión de la moneda. \n",
        "#Todas quedan en Lakh porque en rupias quedaban valores muy grandes\n",
        "\n",
        "df[\"car_prices_in_rupee\"] = np.where(df[\"currency\"] == \"Lakh\", df[\"car_prices_in_rupee\"], 0)\n",
        "df[\"car_prices_in_rupee\"] = np.where(df[\"currency\"] == \"Crore\", df[\"car_prices_in_rupee\"] * 100, df[\"car_prices_in_rupee\"])\n",
        "df[\"car_prices_in_rupee\"] = np.where(df[\"currency\"] == \"Rupias\", df[\"car_prices_in_rupee\"] / 100000, df[\"car_prices_in_rupee\"])"
      ],
      "metadata": {
        "id": "FQiJiSb5ShSa"
      },
      "id": "FQiJiSb5ShSa",
      "execution_count": 491,
      "outputs": []
    },
    {
      "cell_type": "code",
      "source": [
        "#le cambio el nombre a la columna para mayor claridad\n",
        "df = df.rename(columns={\"car_prices_in_rupee\": \"car_prices_in_lakh\"})\n",
        "#y elimino la columna de currency\n",
        "df=df.drop(columns=\"currency\",axis=1)"
      ],
      "metadata": {
        "id": "QTkDT1EgZ7HC"
      },
      "id": "QTkDT1EgZ7HC",
      "execution_count": 492,
      "outputs": []
    },
    {
      "cell_type": "code",
      "source": [
        "df.head()"
      ],
      "metadata": {
        "colab": {
          "base_uri": "https://localhost:8080/",
          "height": 389
        },
        "id": "T2VRwVARY5jY",
        "outputId": "b73caef3-7c10-4ebc-badc-2c5a0c72a8fc"
      },
      "id": "T2VRwVARY5jY",
      "execution_count": 493,
      "outputs": [
        {
          "output_type": "execute_result",
          "data": {
            "text/plain": [
              "   Unnamed: 0                                car_name  car_prices_in_lakh  \\\n",
              "0           0  Jeep Compass 2.0 Longitude Option BSIV               10.03   \n",
              "1           1            Renault Duster RXZ Turbo CVT               12.83   \n",
              "2           2                      Toyota Camry 2.5 G               16.40   \n",
              "3           3                       Honda Jazz VX CVT                7.77   \n",
              "4           4        Volkswagen Polo 1.2 MPI Highline                5.15   \n",
              "\n",
              "   kms_driven fuel_type transmission  ownership  manufacture   engine    Seats  \n",
              "0  86,226 kms    Diesel       Manual  1st Owner         2017  1956 cc  5 Seats  \n",
              "1  13,248 kms    Petrol    Automatic  1st Owner         2021  1330 cc  5 Seats  \n",
              "2  60,343 kms    Petrol    Automatic  1st Owner         2016  2494 cc  5 Seats  \n",
              "3  26,696 kms    Petrol    Automatic  1st Owner         2018  1199 cc  5 Seats  \n",
              "4  69,414 kms    Petrol       Manual  1st Owner         2016  1199 cc  5 Seats  "
            ],
            "text/html": [
              "\n",
              "  <div id=\"df-55c4f2c8-10f3-4f8a-8bd4-366dbaa24915\">\n",
              "    <div class=\"colab-df-container\">\n",
              "      <div>\n",
              "<style scoped>\n",
              "    .dataframe tbody tr th:only-of-type {\n",
              "        vertical-align: middle;\n",
              "    }\n",
              "\n",
              "    .dataframe tbody tr th {\n",
              "        vertical-align: top;\n",
              "    }\n",
              "\n",
              "    .dataframe thead th {\n",
              "        text-align: right;\n",
              "    }\n",
              "</style>\n",
              "<table border=\"1\" class=\"dataframe\">\n",
              "  <thead>\n",
              "    <tr style=\"text-align: right;\">\n",
              "      <th></th>\n",
              "      <th>Unnamed: 0</th>\n",
              "      <th>car_name</th>\n",
              "      <th>car_prices_in_lakh</th>\n",
              "      <th>kms_driven</th>\n",
              "      <th>fuel_type</th>\n",
              "      <th>transmission</th>\n",
              "      <th>ownership</th>\n",
              "      <th>manufacture</th>\n",
              "      <th>engine</th>\n",
              "      <th>Seats</th>\n",
              "    </tr>\n",
              "  </thead>\n",
              "  <tbody>\n",
              "    <tr>\n",
              "      <th>0</th>\n",
              "      <td>0</td>\n",
              "      <td>Jeep Compass 2.0 Longitude Option BSIV</td>\n",
              "      <td>10.03</td>\n",
              "      <td>86,226 kms</td>\n",
              "      <td>Diesel</td>\n",
              "      <td>Manual</td>\n",
              "      <td>1st Owner</td>\n",
              "      <td>2017</td>\n",
              "      <td>1956 cc</td>\n",
              "      <td>5 Seats</td>\n",
              "    </tr>\n",
              "    <tr>\n",
              "      <th>1</th>\n",
              "      <td>1</td>\n",
              "      <td>Renault Duster RXZ Turbo CVT</td>\n",
              "      <td>12.83</td>\n",
              "      <td>13,248 kms</td>\n",
              "      <td>Petrol</td>\n",
              "      <td>Automatic</td>\n",
              "      <td>1st Owner</td>\n",
              "      <td>2021</td>\n",
              "      <td>1330 cc</td>\n",
              "      <td>5 Seats</td>\n",
              "    </tr>\n",
              "    <tr>\n",
              "      <th>2</th>\n",
              "      <td>2</td>\n",
              "      <td>Toyota Camry 2.5 G</td>\n",
              "      <td>16.40</td>\n",
              "      <td>60,343 kms</td>\n",
              "      <td>Petrol</td>\n",
              "      <td>Automatic</td>\n",
              "      <td>1st Owner</td>\n",
              "      <td>2016</td>\n",
              "      <td>2494 cc</td>\n",
              "      <td>5 Seats</td>\n",
              "    </tr>\n",
              "    <tr>\n",
              "      <th>3</th>\n",
              "      <td>3</td>\n",
              "      <td>Honda Jazz VX CVT</td>\n",
              "      <td>7.77</td>\n",
              "      <td>26,696 kms</td>\n",
              "      <td>Petrol</td>\n",
              "      <td>Automatic</td>\n",
              "      <td>1st Owner</td>\n",
              "      <td>2018</td>\n",
              "      <td>1199 cc</td>\n",
              "      <td>5 Seats</td>\n",
              "    </tr>\n",
              "    <tr>\n",
              "      <th>4</th>\n",
              "      <td>4</td>\n",
              "      <td>Volkswagen Polo 1.2 MPI Highline</td>\n",
              "      <td>5.15</td>\n",
              "      <td>69,414 kms</td>\n",
              "      <td>Petrol</td>\n",
              "      <td>Manual</td>\n",
              "      <td>1st Owner</td>\n",
              "      <td>2016</td>\n",
              "      <td>1199 cc</td>\n",
              "      <td>5 Seats</td>\n",
              "    </tr>\n",
              "  </tbody>\n",
              "</table>\n",
              "</div>\n",
              "      <button class=\"colab-df-convert\" onclick=\"convertToInteractive('df-55c4f2c8-10f3-4f8a-8bd4-366dbaa24915')\"\n",
              "              title=\"Convert this dataframe to an interactive table.\"\n",
              "              style=\"display:none;\">\n",
              "        \n",
              "  <svg xmlns=\"http://www.w3.org/2000/svg\" height=\"24px\"viewBox=\"0 0 24 24\"\n",
              "       width=\"24px\">\n",
              "    <path d=\"M0 0h24v24H0V0z\" fill=\"none\"/>\n",
              "    <path d=\"M18.56 5.44l.94 2.06.94-2.06 2.06-.94-2.06-.94-.94-2.06-.94 2.06-2.06.94zm-11 1L8.5 8.5l.94-2.06 2.06-.94-2.06-.94L8.5 2.5l-.94 2.06-2.06.94zm10 10l.94 2.06.94-2.06 2.06-.94-2.06-.94-.94-2.06-.94 2.06-2.06.94z\"/><path d=\"M17.41 7.96l-1.37-1.37c-.4-.4-.92-.59-1.43-.59-.52 0-1.04.2-1.43.59L10.3 9.45l-7.72 7.72c-.78.78-.78 2.05 0 2.83L4 21.41c.39.39.9.59 1.41.59.51 0 1.02-.2 1.41-.59l7.78-7.78 2.81-2.81c.8-.78.8-2.07 0-2.86zM5.41 20L4 18.59l7.72-7.72 1.47 1.35L5.41 20z\"/>\n",
              "  </svg>\n",
              "      </button>\n",
              "      \n",
              "  <style>\n",
              "    .colab-df-container {\n",
              "      display:flex;\n",
              "      flex-wrap:wrap;\n",
              "      gap: 12px;\n",
              "    }\n",
              "\n",
              "    .colab-df-convert {\n",
              "      background-color: #E8F0FE;\n",
              "      border: none;\n",
              "      border-radius: 50%;\n",
              "      cursor: pointer;\n",
              "      display: none;\n",
              "      fill: #1967D2;\n",
              "      height: 32px;\n",
              "      padding: 0 0 0 0;\n",
              "      width: 32px;\n",
              "    }\n",
              "\n",
              "    .colab-df-convert:hover {\n",
              "      background-color: #E2EBFA;\n",
              "      box-shadow: 0px 1px 2px rgba(60, 64, 67, 0.3), 0px 1px 3px 1px rgba(60, 64, 67, 0.15);\n",
              "      fill: #174EA6;\n",
              "    }\n",
              "\n",
              "    [theme=dark] .colab-df-convert {\n",
              "      background-color: #3B4455;\n",
              "      fill: #D2E3FC;\n",
              "    }\n",
              "\n",
              "    [theme=dark] .colab-df-convert:hover {\n",
              "      background-color: #434B5C;\n",
              "      box-shadow: 0px 1px 3px 1px rgba(0, 0, 0, 0.15);\n",
              "      filter: drop-shadow(0px 1px 2px rgba(0, 0, 0, 0.3));\n",
              "      fill: #FFFFFF;\n",
              "    }\n",
              "  </style>\n",
              "\n",
              "      <script>\n",
              "        const buttonEl =\n",
              "          document.querySelector('#df-55c4f2c8-10f3-4f8a-8bd4-366dbaa24915 button.colab-df-convert');\n",
              "        buttonEl.style.display =\n",
              "          google.colab.kernel.accessAllowed ? 'block' : 'none';\n",
              "\n",
              "        async function convertToInteractive(key) {\n",
              "          const element = document.querySelector('#df-55c4f2c8-10f3-4f8a-8bd4-366dbaa24915');\n",
              "          const dataTable =\n",
              "            await google.colab.kernel.invokeFunction('convertToInteractive',\n",
              "                                                     [key], {});\n",
              "          if (!dataTable) return;\n",
              "\n",
              "          const docLinkHtml = 'Like what you see? Visit the ' +\n",
              "            '<a target=\"_blank\" href=https://colab.research.google.com/notebooks/data_table.ipynb>data table notebook</a>'\n",
              "            + ' to learn more about interactive tables.';\n",
              "          element.innerHTML = '';\n",
              "          dataTable['output_type'] = 'display_data';\n",
              "          await google.colab.output.renderOutput(dataTable, element);\n",
              "          const docLink = document.createElement('div');\n",
              "          docLink.innerHTML = docLinkHtml;\n",
              "          element.appendChild(docLink);\n",
              "        }\n",
              "      </script>\n",
              "    </div>\n",
              "  </div>\n",
              "  "
            ]
          },
          "metadata": {},
          "execution_count": 493
        }
      ]
    },
    {
      "cell_type": "code",
      "source": [
        "df.info()"
      ],
      "metadata": {
        "colab": {
          "base_uri": "https://localhost:8080/"
        },
        "id": "5RlmZlNra1AI",
        "outputId": "8c5776e9-d1ea-4330-bf0c-2a75f5c64d9f"
      },
      "id": "5RlmZlNra1AI",
      "execution_count": 494,
      "outputs": [
        {
          "output_type": "stream",
          "name": "stdout",
          "text": [
            "<class 'pandas.core.frame.DataFrame'>\n",
            "RangeIndex: 5512 entries, 0 to 5511\n",
            "Data columns (total 10 columns):\n",
            " #   Column              Non-Null Count  Dtype  \n",
            "---  ------              --------------  -----  \n",
            " 0   Unnamed: 0          5512 non-null   int64  \n",
            " 1   car_name            5512 non-null   object \n",
            " 2   car_prices_in_lakh  5512 non-null   float64\n",
            " 3   kms_driven          5512 non-null   object \n",
            " 4   fuel_type           5512 non-null   object \n",
            " 5   transmission        5512 non-null   object \n",
            " 6   ownership           5512 non-null   object \n",
            " 7   manufacture         5512 non-null   int64  \n",
            " 8   engine              5512 non-null   object \n",
            " 9   Seats               5512 non-null   object \n",
            "dtypes: float64(1), int64(2), object(7)\n",
            "memory usage: 430.8+ KB\n"
          ]
        }
      ]
    },
    {
      "cell_type": "code",
      "source": [
        "#ahora convertiré a valores numéricos kms_driven \n",
        "df[\"kms_driven\"]=df[\"kms_driven\"].str.replace(\"kms\",\"\")\n",
        "df[\"kms_driven\"]=df[\"kms_driven\"].str.replace(\",\",\"\")\n",
        "df[\"kms_driven\"]=df[\"kms_driven\"].str.replace(\".\",\"\")\n",
        "df[\"kms_driven\"] = df[\"kms_driven\"].astype(int)"
      ],
      "metadata": {
        "colab": {
          "base_uri": "https://localhost:8080/"
        },
        "id": "CgmKviw920R8",
        "outputId": "e41d47fb-49ec-43c8-a608-5ead478bfb81"
      },
      "id": "CgmKviw920R8",
      "execution_count": 495,
      "outputs": [
        {
          "output_type": "stream",
          "name": "stderr",
          "text": [
            "<ipython-input-495-e1a686bb6331>:4: FutureWarning: The default value of regex will change from True to False in a future version. In addition, single character regular expressions will *not* be treated as literal strings when regex=True.\n",
            "  df[\"kms_driven\"]=df[\"kms_driven\"].str.replace(\".\",\"\")\n"
          ]
        }
      ]
    },
    {
      "cell_type": "code",
      "source": [
        "df.info()"
      ],
      "metadata": {
        "colab": {
          "base_uri": "https://localhost:8080/"
        },
        "id": "GyUQcjy-g4M2",
        "outputId": "9272483f-f8fa-4654-b9f7-aa0969e1b3d9"
      },
      "id": "GyUQcjy-g4M2",
      "execution_count": 496,
      "outputs": [
        {
          "output_type": "stream",
          "name": "stdout",
          "text": [
            "<class 'pandas.core.frame.DataFrame'>\n",
            "RangeIndex: 5512 entries, 0 to 5511\n",
            "Data columns (total 10 columns):\n",
            " #   Column              Non-Null Count  Dtype  \n",
            "---  ------              --------------  -----  \n",
            " 0   Unnamed: 0          5512 non-null   int64  \n",
            " 1   car_name            5512 non-null   object \n",
            " 2   car_prices_in_lakh  5512 non-null   float64\n",
            " 3   kms_driven          5512 non-null   int64  \n",
            " 4   fuel_type           5512 non-null   object \n",
            " 5   transmission        5512 non-null   object \n",
            " 6   ownership           5512 non-null   object \n",
            " 7   manufacture         5512 non-null   int64  \n",
            " 8   engine              5512 non-null   object \n",
            " 9   Seats               5512 non-null   object \n",
            "dtypes: float64(1), int64(3), object(6)\n",
            "memory usage: 430.8+ KB\n"
          ]
        }
      ]
    },
    {
      "cell_type": "code",
      "source": [
        "#ahora voy a a convertir lo valores de ownership a númericos, como los valores aumentan, la secuencia de 0 a 5 funciona y \n",
        "#y no es necesario la codificacióno binaria. \n",
        "df[\"ownership\"]=df[\"ownership\"].str.replace(\"0th Owner\",\"0\")\n",
        "df[\"ownership\"]=df[\"ownership\"].str.replace(\"1st Owner\",\"1\")\n",
        "df[\"ownership\"]=df[\"ownership\"].str.replace(\"2nd Owner\",\"2\")\n",
        "df[\"ownership\"]=df[\"ownership\"].str.replace(\"3rd Owner\",\"3\")\n",
        "df[\"ownership\"]=df[\"ownership\"].str.replace(\"4th Owner\",\"4\")\n",
        "df[\"ownership\"]=df[\"ownership\"].str.replace(\"5th Owner\",\"5\")\n",
        "df[\"ownership\"] = df[\"ownership\"].astype(int)"
      ],
      "metadata": {
        "id": "Edp_eR_NhF_7"
      },
      "id": "Edp_eR_NhF_7",
      "execution_count": 497,
      "outputs": []
    },
    {
      "cell_type": "code",
      "source": [
        "df.info()"
      ],
      "metadata": {
        "colab": {
          "base_uri": "https://localhost:8080/"
        },
        "id": "0w9UpMk3j0IN",
        "outputId": "7318b851-74f7-4cee-d814-06b3aec4294a"
      },
      "id": "0w9UpMk3j0IN",
      "execution_count": 498,
      "outputs": [
        {
          "output_type": "stream",
          "name": "stdout",
          "text": [
            "<class 'pandas.core.frame.DataFrame'>\n",
            "RangeIndex: 5512 entries, 0 to 5511\n",
            "Data columns (total 10 columns):\n",
            " #   Column              Non-Null Count  Dtype  \n",
            "---  ------              --------------  -----  \n",
            " 0   Unnamed: 0          5512 non-null   int64  \n",
            " 1   car_name            5512 non-null   object \n",
            " 2   car_prices_in_lakh  5512 non-null   float64\n",
            " 3   kms_driven          5512 non-null   int64  \n",
            " 4   fuel_type           5512 non-null   object \n",
            " 5   transmission        5512 non-null   object \n",
            " 6   ownership           5512 non-null   int64  \n",
            " 7   manufacture         5512 non-null   int64  \n",
            " 8   engine              5512 non-null   object \n",
            " 9   Seats               5512 non-null   object \n",
            "dtypes: float64(1), int64(4), object(5)\n",
            "memory usage: 430.8+ KB\n"
          ]
        }
      ]
    },
    {
      "cell_type": "code",
      "source": [
        "#ahora voy a a convertir lo valores de engine a númericos\n",
        "df[\"engine\"]=df[\"engine\"].str.replace(\"cc\",\"\")\n",
        "df[\"engine\"] = df[\"engine\"].astype(int)"
      ],
      "metadata": {
        "id": "5GyzZaJSj61D"
      },
      "id": "5GyzZaJSj61D",
      "execution_count": 499,
      "outputs": []
    },
    {
      "cell_type": "code",
      "source": [
        "df.info()"
      ],
      "metadata": {
        "colab": {
          "base_uri": "https://localhost:8080/"
        },
        "id": "Q4EDH4B3kIdE",
        "outputId": "a1372479-5d19-4318-d32c-cbe7262d62bb"
      },
      "id": "Q4EDH4B3kIdE",
      "execution_count": 500,
      "outputs": [
        {
          "output_type": "stream",
          "name": "stdout",
          "text": [
            "<class 'pandas.core.frame.DataFrame'>\n",
            "RangeIndex: 5512 entries, 0 to 5511\n",
            "Data columns (total 10 columns):\n",
            " #   Column              Non-Null Count  Dtype  \n",
            "---  ------              --------------  -----  \n",
            " 0   Unnamed: 0          5512 non-null   int64  \n",
            " 1   car_name            5512 non-null   object \n",
            " 2   car_prices_in_lakh  5512 non-null   float64\n",
            " 3   kms_driven          5512 non-null   int64  \n",
            " 4   fuel_type           5512 non-null   object \n",
            " 5   transmission        5512 non-null   object \n",
            " 6   ownership           5512 non-null   int64  \n",
            " 7   manufacture         5512 non-null   int64  \n",
            " 8   engine              5512 non-null   int64  \n",
            " 9   Seats               5512 non-null   object \n",
            "dtypes: float64(1), int64(5), object(4)\n",
            "memory usage: 430.8+ KB\n"
          ]
        }
      ]
    },
    {
      "cell_type": "code",
      "source": [
        "#ahora voy a a convertir lo valores de  Seats a númericos\n",
        "df = df.rename(columns={\"Seats\": \"seats\"})\n",
        "df[\"seats\"]=df[\"seats\"].str.replace(\"2 Seats\",\"2\")\n",
        "df[\"seats\"]=df[\"seats\"].str.replace(\"4 Seats\",\"4\")\n",
        "df[\"seats\"]=df[\"seats\"].str.replace(\"5 Seats\",\"5\")\n",
        "df[\"seats\"]=df[\"seats\"].str.replace(\"6 Seats\",\"6\")\n",
        "df[\"seats\"]=df[\"seats\"].str.replace(\"7 Seats\",\"7\")\n",
        "df[\"seats\"]=df[\"seats\"].str.replace(\"8 Seats\",\"8\")\n",
        "df[\"seats\"] = df[\"seats\"].astype(int)"
      ],
      "metadata": {
        "id": "VbQfDyqmkUmv"
      },
      "id": "VbQfDyqmkUmv",
      "execution_count": 501,
      "outputs": []
    },
    {
      "cell_type": "code",
      "source": [
        "df.info()"
      ],
      "metadata": {
        "colab": {
          "base_uri": "https://localhost:8080/"
        },
        "id": "lMAQOnpnl48S",
        "outputId": "bde660c3-d503-4a70-b045-c9456d7c7cb5"
      },
      "id": "lMAQOnpnl48S",
      "execution_count": 502,
      "outputs": [
        {
          "output_type": "stream",
          "name": "stdout",
          "text": [
            "<class 'pandas.core.frame.DataFrame'>\n",
            "RangeIndex: 5512 entries, 0 to 5511\n",
            "Data columns (total 10 columns):\n",
            " #   Column              Non-Null Count  Dtype  \n",
            "---  ------              --------------  -----  \n",
            " 0   Unnamed: 0          5512 non-null   int64  \n",
            " 1   car_name            5512 non-null   object \n",
            " 2   car_prices_in_lakh  5512 non-null   float64\n",
            " 3   kms_driven          5512 non-null   int64  \n",
            " 4   fuel_type           5512 non-null   object \n",
            " 5   transmission        5512 non-null   object \n",
            " 6   ownership           5512 non-null   int64  \n",
            " 7   manufacture         5512 non-null   int64  \n",
            " 8   engine              5512 non-null   int64  \n",
            " 9   seats               5512 non-null   int64  \n",
            "dtypes: float64(1), int64(6), object(3)\n",
            "memory usage: 430.8+ KB\n"
          ]
        }
      ]
    },
    {
      "cell_type": "code",
      "source": [
        "#voy a eliminar la columna de unnamed que no es relevante\n",
        "df = df.drop(\"Unnamed: 0\", axis=1)"
      ],
      "metadata": {
        "id": "uGlMs-7eqnwc"
      },
      "id": "uGlMs-7eqnwc",
      "execution_count": 503,
      "outputs": []
    },
    {
      "cell_type": "markdown",
      "id": "e4ef584c",
      "metadata": {
        "id": "e4ef584c"
      },
      "source": [
        "**Visualizaciones**"
      ]
    },
    {
      "cell_type": "code",
      "source": [
        "#en el primer gráfico voy a analizarel promedio del precio de los carros en el tiemó\n",
        "\n",
        "df_grouped = df.groupby(\"manufacture\").mean()\n",
        "\n",
        "plt.plot(df_grouped[\"car_prices_in_lakh\"],color=\"purple\")\n",
        "plt.xlabel(\"Año de fabricación\")\n",
        "plt.ylabel(\"Promedio de precio en lakhs de rupias\")\n",
        "plt.title(\"Promedio de precio de los carros por año\")\n",
        "\n",
        "plt.show()\n"
      ],
      "metadata": {
        "colab": {
          "base_uri": "https://localhost:8080/",
          "height": 295
        },
        "id": "KftPLL3KtXcV",
        "outputId": "86f4c2a9-dcf7-41d2-e0d6-bf27230e832f"
      },
      "id": "KftPLL3KtXcV",
      "execution_count": 504,
      "outputs": [
        {
          "output_type": "display_data",
          "data": {
            "text/plain": [
              "<Figure size 432x288 with 1 Axes>"
            ],
            "image/png": "[encoded data removed]"
          },
          "metadata": {
            "needs_background": "light"
          }
        }
      ]
    },
    {
      "cell_type": "markdown",
      "source": [
        "Se puede observar que el promedio del precio de carros ha aumentado con el paso dle tiempo, lo cual es lógico e intuitivo, pero pudo ser confirmado."
      ],
      "metadata": {
        "id": "K6ttDZMO0cTC"
      },
      "id": "K6ttDZMO0cTC"
    },
    {
      "cell_type": "code",
      "source": [
        "#ahora quiero analizar la influencia del número de dueños que ha tenido un carro en el costo.\n",
        "#Para ellos haré un gráfico de barras del promedio del precio de los carros en función del númer de dueños.\n",
        "df_grouped = df.groupby(\"ownership\").mean()\n",
        "\n",
        "sns.set_style(\"whitegrid\")\n",
        "plt.bar(df_grouped.index, df_grouped[\"car_prices_in_lakh\"],color=\"plum\",edgecolor = \"indigo\")\n",
        "plt.xlabel(\"Número de dueños\")\n",
        "plt.ylabel(\"Promedio de precio en lakhs de rupias\")\n",
        "plt.title(\"Precio de los carros por número de dueños\")\n",
        "\n",
        "\n",
        "plt.show()\n"
      ],
      "metadata": {
        "colab": {
          "base_uri": "https://localhost:8080/",
          "height": 295
        },
        "id": "symJddhwq3C-",
        "outputId": "787f0357-a3ac-484a-906c-14b897587ac2"
      },
      "id": "symJddhwq3C-",
      "execution_count": 505,
      "outputs": [
        {
          "output_type": "display_data",
          "data": {
            "text/plain": [
              "<Figure size 432x288 with 1 Axes>"
            ],
            "image/png": "[encoded data removed]"
          },
          "metadata": {}
        }
      ]
    },
    {
      "cell_type": "markdown",
      "source": [
        "El precio de los carros tiende a disminuir a medida que ha tenido más dueños. Se evidencia un salto grande de 0 a 1; lo que quiere decir que cuando es nuevo, el precio es bastante más alto; cuando ha tenido de 1 en adelante la diferencia empiea a ser menos significativa. "
      ],
      "metadata": {
        "id": "Yh0itSBH15De"
      },
      "id": "Yh0itSBH15De"
    },
    {
      "cell_type": "code",
      "source": [
        "#AHora vamos a visualizar los 10 carros más caros\n",
        "\n",
        "df_grouped = df.groupby(\"car_name\").mean().sort_values(\"car_prices_in_lakh\", ascending=False).head(10)\n",
        "\n",
        "\n",
        "df_grouped[\"car_prices_in_lakh\"].plot(kind=\"barh\", color=\"cornflowerblue\")\n",
        "plt.xlabel(\"Promedio de precio en lakhs de rupias\")\n",
        "plt.title(\"Los 10 carros más costosos\")\n",
        "plt.grid()\n",
        "\n",
        "plt.show()"
      ],
      "metadata": {
        "colab": {
          "base_uri": "https://localhost:8080/",
          "height": 295
        },
        "id": "r6sotzsG2Orm",
        "outputId": "fb7639c8-2b9e-4506-8534-e0ab277109a9"
      },
      "id": "r6sotzsG2Orm",
      "execution_count": 506,
      "outputs": [
        {
          "output_type": "display_data",
          "data": {
            "text/plain": [
              "<Figure size 432x288 with 1 Axes>"
            ],
            "image/png": "[encoded data removed]"
          },
          "metadata": {}
        }
      ]
    },
    {
      "cell_type": "code",
      "source": [
        "# Ahora voy a comparar la distribución de precios por tipo de combustible\n",
        "sns.boxplot(x=\"fuel_type\", y=\"car_prices_in_lakh\", data=df)\n",
        "\n",
        "plt.title(\"Distribución de precios de carros por tipo de combustible\")\n",
        "plt.xlabel(\"Tipo de combustible\")\n",
        "plt.ylabel(\"Precio en lakhs de rupias\")\n",
        "\n",
        "plt.show()"
      ],
      "metadata": {
        "colab": {
          "base_uri": "https://localhost:8080/",
          "height": 295
        },
        "id": "UqeUSfF34HKv",
        "outputId": "7e145910-fd65-478c-cfd7-040220207064"
      },
      "id": "UqeUSfF34HKv",
      "execution_count": 507,
      "outputs": [
        {
          "output_type": "display_data",
          "data": {
            "text/plain": [
              "<Figure size 432x288 with 1 Axes>"
            ],
            "image/png": "[encoded data removed]"
          },
          "metadata": {}
        }
      ]
    },
    {
      "cell_type": "code",
      "source": [
        "#mapa de calor de correlación e identificado cualquier correlaciones moderadas o fuertes entre el objetivo \n",
        "#y las características y/o entre una característica y otra\n",
        "\n",
        "corr = df.corr()\n",
        "\n",
        "plt.figure(figsize=(10,10))\n",
        "sns.heatmap(corr, annot=True, cmap=\"coolwarm\")\n",
        "plt.title(\"Matriz de correlación\")\n",
        "plt.xticks(rotation=45)\n",
        "\n",
        "\n",
        "plt.show()"
      ],
      "metadata": {
        "colab": {
          "base_uri": "https://localhost:8080/",
          "height": 670
        },
        "id": "lSDOPIWG6ZNe",
        "outputId": "000dbe9a-1112-4c56-bde9-f7f61bfea15d"
      },
      "id": "lSDOPIWG6ZNe",
      "execution_count": 508,
      "outputs": [
        {
          "output_type": "display_data",
          "data": {
            "text/plain": [
              "<Figure size 720x720 with 2 Axes>"
            ],
            "image/png": "[encoded data removed]"
          },
          "metadata": {}
        }
      ]
    },
    {
      "cell_type": "markdown",
      "source": [
        "<ul> <li>Se evidencia una correlación fuerte y positiva entre \"engine\" y \"car prices\", lo que indica que a medida que el tamaño del motor de un automóvil aumenta, el precio también aumenta.</li> </ul> \n",
        "<ul> <li>El cuadro de correlación manufacture con kms_driven tiene un valor de 0.48 indica que existe una correlación moderada negativa entre las dos variables, lo que significa que a medida que el año de fabricación aumenta, la cantidad de kilómetros que el automóvil ha sido conducido disminuye.</li> </ul>\n",
        "\n"
      ],
      "metadata": {
        "id": "xVQf9jiR8uNs"
      },
      "id": "xVQf9jiR8uNs"
    },
    {
      "cell_type": "markdown",
      "id": "b7c75138",
      "metadata": {
        "id": "b7c75138"
      },
      "source": [
        "### II.- Modelos\n"
      ]
    },
    {
      "cell_type": "code",
      "source": [
        "#convierto las columnas categóricas, primero fuel type\n",
        "fuel_dummies = pd.get_dummies(df[\"fuel_type\"], prefix=\"fuel_type\")\n",
        "df = pd.concat([df, fuel_dummies], axis=1)\n",
        "df = df.drop(columns=\"fuel_type\")\n",
        "df.head()"
      ],
      "metadata": {
        "id": "zDQsvfr5kMl8",
        "colab": {
          "base_uri": "https://localhost:8080/",
          "height": 496
        },
        "outputId": "1914c280-869f-4cdc-99ee-490a04f709c0"
      },
      "id": "zDQsvfr5kMl8",
      "execution_count": 509,
      "outputs": [
        {
          "output_type": "execute_result",
          "data": {
            "text/plain": [
              "                                 car_name  car_prices_in_lakh  kms_driven  \\\n",
              "0  Jeep Compass 2.0 Longitude Option BSIV               10.03       86226   \n",
              "1            Renault Duster RXZ Turbo CVT               12.83       13248   \n",
              "2                      Toyota Camry 2.5 G               16.40       60343   \n",
              "3                       Honda Jazz VX CVT                7.77       26696   \n",
              "4        Volkswagen Polo 1.2 MPI Highline                5.15       69414   \n",
              "\n",
              "  transmission  ownership  manufacture  engine  seats  fuel_type_Cng  \\\n",
              "0       Manual          1         2017    1956      5              0   \n",
              "1    Automatic          1         2021    1330      5              0   \n",
              "2    Automatic          1         2016    2494      5              0   \n",
              "3    Automatic          1         2018    1199      5              0   \n",
              "4       Manual          1         2016    1199      5              0   \n",
              "\n",
              "   fuel_type_Diesel  fuel_type_Electric  fuel_type_Lpg  fuel_type_Petrol  \n",
              "0                 1                   0              0                 0  \n",
              "1                 0                   0              0                 1  \n",
              "2                 0                   0              0                 1  \n",
              "3                 0                   0              0                 1  \n",
              "4                 0                   0              0                 1  "
            ],
            "text/html": [
              "\n",
              "  <div id=\"df-1738df85-18be-4e74-a6c2-df191f103889\">\n",
              "    <div class=\"colab-df-container\">\n",
              "      <div>\n",
              "<style scoped>\n",
              "    .dataframe tbody tr th:only-of-type {\n",
              "        vertical-align: middle;\n",
              "    }\n",
              "\n",
              "    .dataframe tbody tr th {\n",
              "        vertical-align: top;\n",
              "    }\n",
              "\n",
              "    .dataframe thead th {\n",
              "        text-align: right;\n",
              "    }\n",
              "</style>\n",
              "<table border=\"1\" class=\"dataframe\">\n",
              "  <thead>\n",
              "    <tr style=\"text-align: right;\">\n",
              "      <th></th>\n",
              "      <th>car_name</th>\n",
              "      <th>car_prices_in_lakh</th>\n",
              "      <th>kms_driven</th>\n",
              "      <th>transmission</th>\n",
              "      <th>ownership</th>\n",
              "      <th>manufacture</th>\n",
              "      <th>engine</th>\n",
              "      <th>seats</th>\n",
              "      <th>fuel_type_Cng</th>\n",
              "      <th>fuel_type_Diesel</th>\n",
              "      <th>fuel_type_Electric</th>\n",
              "      <th>fuel_type_Lpg</th>\n",
              "      <th>fuel_type_Petrol</th>\n",
              "    </tr>\n",
              "  </thead>\n",
              "  <tbody>\n",
              "    <tr>\n",
              "      <th>0</th>\n",
              "      <td>Jeep Compass 2.0 Longitude Option BSIV</td>\n",
              "      <td>10.03</td>\n",
              "      <td>86226</td>\n",
              "      <td>Manual</td>\n",
              "      <td>1</td>\n",
              "      <td>2017</td>\n",
              "      <td>1956</td>\n",
              "      <td>5</td>\n",
              "      <td>0</td>\n",
              "      <td>1</td>\n",
              "      <td>0</td>\n",
              "      <td>0</td>\n",
              "      <td>0</td>\n",
              "    </tr>\n",
              "    <tr>\n",
              "      <th>1</th>\n",
              "      <td>Renault Duster RXZ Turbo CVT</td>\n",
              "      <td>12.83</td>\n",
              "      <td>13248</td>\n",
              "      <td>Automatic</td>\n",
              "      <td>1</td>\n",
              "      <td>2021</td>\n",
              "      <td>1330</td>\n",
              "      <td>5</td>\n",
              "      <td>0</td>\n",
              "      <td>0</td>\n",
              "      <td>0</td>\n",
              "      <td>0</td>\n",
              "      <td>1</td>\n",
              "    </tr>\n",
              "    <tr>\n",
              "      <th>2</th>\n",
              "      <td>Toyota Camry 2.5 G</td>\n",
              "      <td>16.40</td>\n",
              "      <td>60343</td>\n",
              "      <td>Automatic</td>\n",
              "      <td>1</td>\n",
              "      <td>2016</td>\n",
              "      <td>2494</td>\n",
              "      <td>5</td>\n",
              "      <td>0</td>\n",
              "      <td>0</td>\n",
              "      <td>0</td>\n",
              "      <td>0</td>\n",
              "      <td>1</td>\n",
              "    </tr>\n",
              "    <tr>\n",
              "      <th>3</th>\n",
              "      <td>Honda Jazz VX CVT</td>\n",
              "      <td>7.77</td>\n",
              "      <td>26696</td>\n",
              "      <td>Automatic</td>\n",
              "      <td>1</td>\n",
              "      <td>2018</td>\n",
              "      <td>1199</td>\n",
              "      <td>5</td>\n",
              "      <td>0</td>\n",
              "      <td>0</td>\n",
              "      <td>0</td>\n",
              "      <td>0</td>\n",
              "      <td>1</td>\n",
              "    </tr>\n",
              "    <tr>\n",
              "      <th>4</th>\n",
              "      <td>Volkswagen Polo 1.2 MPI Highline</td>\n",
              "      <td>5.15</td>\n",
              "      <td>69414</td>\n",
              "      <td>Manual</td>\n",
              "      <td>1</td>\n",
              "      <td>2016</td>\n",
              "      <td>1199</td>\n",
              "      <td>5</td>\n",
              "      <td>0</td>\n",
              "      <td>0</td>\n",
              "      <td>0</td>\n",
              "      <td>0</td>\n",
              "      <td>1</td>\n",
              "    </tr>\n",
              "  </tbody>\n",
              "</table>\n",
              "</div>\n",
              "      <button class=\"colab-df-convert\" onclick=\"convertToInteractive('df-1738df85-18be-4e74-a6c2-df191f103889')\"\n",
              "              title=\"Convert this dataframe to an interactive table.\"\n",
              "              style=\"display:none;\">\n",
              "        \n",
              "  <svg xmlns=\"http://www.w3.org/2000/svg\" height=\"24px\"viewBox=\"0 0 24 24\"\n",
              "       width=\"24px\">\n",
              "    <path d=\"M0 0h24v24H0V0z\" fill=\"none\"/>\n",
              "    <path d=\"M18.56 5.44l.94 2.06.94-2.06 2.06-.94-2.06-.94-.94-2.06-.94 2.06-2.06.94zm-11 1L8.5 8.5l.94-2.06 2.06-.94-2.06-.94L8.5 2.5l-.94 2.06-2.06.94zm10 10l.94 2.06.94-2.06 2.06-.94-2.06-.94-.94-2.06-.94 2.06-2.06.94z\"/><path d=\"M17.41 7.96l-1.37-1.37c-.4-.4-.92-.59-1.43-.59-.52 0-1.04.2-1.43.59L10.3 9.45l-7.72 7.72c-.78.78-.78 2.05 0 2.83L4 21.41c.39.39.9.59 1.41.59.51 0 1.02-.2 1.41-.59l7.78-7.78 2.81-2.81c.8-.78.8-2.07 0-2.86zM5.41 20L4 18.59l7.72-7.72 1.47 1.35L5.41 20z\"/>\n",
              "  </svg>\n",
              "      </button>\n",
              "      \n",
              "  <style>\n",
              "    .colab-df-container {\n",
              "      display:flex;\n",
              "      flex-wrap:wrap;\n",
              "      gap: 12px;\n",
              "    }\n",
              "\n",
              "    .colab-df-convert {\n",
              "      background-color: #E8F0FE;\n",
              "      border: none;\n",
              "      border-radius: 50%;\n",
              "      cursor: pointer;\n",
              "      display: none;\n",
              "      fill: #1967D2;\n",
              "      height: 32px;\n",
              "      padding: 0 0 0 0;\n",
              "      width: 32px;\n",
              "    }\n",
              "\n",
              "    .colab-df-convert:hover {\n",
              "      background-color: #E2EBFA;\n",
              "      box-shadow: 0px 1px 2px rgba(60, 64, 67, 0.3), 0px 1px 3px 1px rgba(60, 64, 67, 0.15);\n",
              "      fill: #174EA6;\n",
              "    }\n",
              "\n",
              "    [theme=dark] .colab-df-convert {\n",
              "      background-color: #3B4455;\n",
              "      fill: #D2E3FC;\n",
              "    }\n",
              "\n",
              "    [theme=dark] .colab-df-convert:hover {\n",
              "      background-color: #434B5C;\n",
              "      box-shadow: 0px 1px 3px 1px rgba(0, 0, 0, 0.15);\n",
              "      filter: drop-shadow(0px 1px 2px rgba(0, 0, 0, 0.3));\n",
              "      fill: #FFFFFF;\n",
              "    }\n",
              "  </style>\n",
              "\n",
              "      <script>\n",
              "        const buttonEl =\n",
              "          document.querySelector('#df-1738df85-18be-4e74-a6c2-df191f103889 button.colab-df-convert');\n",
              "        buttonEl.style.display =\n",
              "          google.colab.kernel.accessAllowed ? 'block' : 'none';\n",
              "\n",
              "        async function convertToInteractive(key) {\n",
              "          const element = document.querySelector('#df-1738df85-18be-4e74-a6c2-df191f103889');\n",
              "          const dataTable =\n",
              "            await google.colab.kernel.invokeFunction('convertToInteractive',\n",
              "                                                     [key], {});\n",
              "          if (!dataTable) return;\n",
              "\n",
              "          const docLinkHtml = 'Like what you see? Visit the ' +\n",
              "            '<a target=\"_blank\" href=https://colab.research.google.com/notebooks/data_table.ipynb>data table notebook</a>'\n",
              "            + ' to learn more about interactive tables.';\n",
              "          element.innerHTML = '';\n",
              "          dataTable['output_type'] = 'display_data';\n",
              "          await google.colab.output.renderOutput(dataTable, element);\n",
              "          const docLink = document.createElement('div');\n",
              "          docLink.innerHTML = docLinkHtml;\n",
              "          element.appendChild(docLink);\n",
              "        }\n",
              "      </script>\n",
              "    </div>\n",
              "  </div>\n",
              "  "
            ]
          },
          "metadata": {},
          "execution_count": 509
        }
      ]
    },
    {
      "cell_type": "code",
      "source": [
        "df.info()"
      ],
      "metadata": {
        "colab": {
          "base_uri": "https://localhost:8080/"
        },
        "id": "reNIh9uWnJAG",
        "outputId": "cc922d68-2d4f-4b02-87fa-621d81731174"
      },
      "id": "reNIh9uWnJAG",
      "execution_count": 510,
      "outputs": [
        {
          "output_type": "stream",
          "name": "stdout",
          "text": [
            "<class 'pandas.core.frame.DataFrame'>\n",
            "RangeIndex: 5512 entries, 0 to 5511\n",
            "Data columns (total 13 columns):\n",
            " #   Column              Non-Null Count  Dtype  \n",
            "---  ------              --------------  -----  \n",
            " 0   car_name            5512 non-null   object \n",
            " 1   car_prices_in_lakh  5512 non-null   float64\n",
            " 2   kms_driven          5512 non-null   int64  \n",
            " 3   transmission        5512 non-null   object \n",
            " 4   ownership           5512 non-null   int64  \n",
            " 5   manufacture         5512 non-null   int64  \n",
            " 6   engine              5512 non-null   int64  \n",
            " 7   seats               5512 non-null   int64  \n",
            " 8   fuel_type_Cng       5512 non-null   uint8  \n",
            " 9   fuel_type_Diesel    5512 non-null   uint8  \n",
            " 10  fuel_type_Electric  5512 non-null   uint8  \n",
            " 11  fuel_type_Lpg       5512 non-null   uint8  \n",
            " 12  fuel_type_Petrol    5512 non-null   uint8  \n",
            "dtypes: float64(1), int64(5), object(2), uint8(5)\n",
            "memory usage: 371.5+ KB\n"
          ]
        }
      ]
    },
    {
      "cell_type": "code",
      "source": [
        "#continúo con transmission\n",
        "transmission_dummies = pd.get_dummies(df[\"transmission\"], prefix=\"transmission\")\n",
        "df = pd.concat([df, transmission_dummies], axis=1)\n",
        "df = df.drop(columns=\"transmission\")\n",
        "df.info()"
      ],
      "metadata": {
        "id": "e2DVlPion8c8",
        "colab": {
          "base_uri": "https://localhost:8080/"
        },
        "outputId": "dcfa8c12-b357-4493-e922-f04567c554fc"
      },
      "id": "e2DVlPion8c8",
      "execution_count": 511,
      "outputs": [
        {
          "output_type": "stream",
          "name": "stdout",
          "text": [
            "<class 'pandas.core.frame.DataFrame'>\n",
            "RangeIndex: 5512 entries, 0 to 5511\n",
            "Data columns (total 14 columns):\n",
            " #   Column                  Non-Null Count  Dtype  \n",
            "---  ------                  --------------  -----  \n",
            " 0   car_name                5512 non-null   object \n",
            " 1   car_prices_in_lakh      5512 non-null   float64\n",
            " 2   kms_driven              5512 non-null   int64  \n",
            " 3   ownership               5512 non-null   int64  \n",
            " 4   manufacture             5512 non-null   int64  \n",
            " 5   engine                  5512 non-null   int64  \n",
            " 6   seats                   5512 non-null   int64  \n",
            " 7   fuel_type_Cng           5512 non-null   uint8  \n",
            " 8   fuel_type_Diesel        5512 non-null   uint8  \n",
            " 9   fuel_type_Electric      5512 non-null   uint8  \n",
            " 10  fuel_type_Lpg           5512 non-null   uint8  \n",
            " 11  fuel_type_Petrol        5512 non-null   uint8  \n",
            " 12  transmission_Automatic  5512 non-null   uint8  \n",
            " 13  transmission_Manual     5512 non-null   uint8  \n",
            "dtypes: float64(1), int64(5), object(1), uint8(7)\n",
            "memory usage: 339.2+ KB\n"
          ]
        }
      ]
    },
    {
      "cell_type": "code",
      "source": [
        "#finalmente la columna car_name\n",
        "car_name_dummies = pd.get_dummies(df[\"car_name\"], prefix=\"car_name\")\n",
        "df = pd.concat([df, car_name_dummies], axis=1)\n",
        "df = df.drop(columns=\"car_name\")\n",
        "df.info()"
      ],
      "metadata": {
        "id": "I4LUzMiconyj",
        "colab": {
          "base_uri": "https://localhost:8080/"
        },
        "outputId": "662b72bb-e7d2-4f96-dfee-42f61d92232b"
      },
      "id": "I4LUzMiconyj",
      "execution_count": 512,
      "outputs": [
        {
          "output_type": "stream",
          "name": "stdout",
          "text": [
            "<class 'pandas.core.frame.DataFrame'>\n",
            "RangeIndex: 5512 entries, 0 to 5511\n",
            "Columns: 1909 entries, car_prices_in_lakh to car_name_Volvo XC60 Inscription D5 BSIV\n",
            "dtypes: float64(1), int64(5), uint8(1903)\n",
            "memory usage: 10.3 MB\n"
          ]
        }
      ]
    },
    {
      "cell_type": "code",
      "source": [
        "df.head()"
      ],
      "metadata": {
        "colab": {
          "base_uri": "https://localhost:8080/",
          "height": 352
        },
        "id": "zi3Re7J0pepM",
        "outputId": "f32786ee-d521-4df0-8951-eca2f964f3d5"
      },
      "id": "zi3Re7J0pepM",
      "execution_count": 513,
      "outputs": [
        {
          "output_type": "execute_result",
          "data": {
            "text/plain": [
              "   car_prices_in_lakh  kms_driven  ownership  manufacture  engine  seats  \\\n",
              "0               10.03       86226          1         2017    1956      5   \n",
              "1               12.83       13248          1         2021    1330      5   \n",
              "2               16.40       60343          1         2016    2494      5   \n",
              "3                7.77       26696          1         2018    1199      5   \n",
              "4                5.15       69414          1         2016    1199      5   \n",
              "\n",
              "   fuel_type_Cng  fuel_type_Diesel  fuel_type_Electric  fuel_type_Lpg  ...  \\\n",
              "0              0                 1                   0              0  ...   \n",
              "1              0                 0                   0              0  ...   \n",
              "2              0                 0                   0              0  ...   \n",
              "3              0                 0                   0              0  ...   \n",
              "4              0                 0                   0              0  ...   \n",
              "\n",
              "   car_name_Volvo V40 Cross Country D3  car_name_Volvo XC 90 D5 Inscription  \\\n",
              "0                                    0                                    0   \n",
              "1                                    0                                    0   \n",
              "2                                    0                                    0   \n",
              "3                                    0                                    0   \n",
              "4                                    0                                    0   \n",
              "\n",
              "   car_name_Volvo XC 90 D5 Inscription BSIV  \\\n",
              "0                                         0   \n",
              "1                                         0   \n",
              "2                                         0   \n",
              "3                                         0   \n",
              "4                                         0   \n",
              "\n",
              "   car_name_Volvo XC 90 D5 Momentum BSIV  car_name_Volvo XC60 B5 Inscripition  \\\n",
              "0                                      0                                    0   \n",
              "1                                      0                                    0   \n",
              "2                                      0                                    0   \n",
              "3                                      0                                    0   \n",
              "4                                      0                                    0   \n",
              "\n",
              "   car_name_Volvo XC60 D4 Summum  car_name_Volvo XC60 D5 Inscription  \\\n",
              "0                              0                                   0   \n",
              "1                              0                                   0   \n",
              "2                              0                                   0   \n",
              "3                              0                                   0   \n",
              "4                              0                                   0   \n",
              "\n",
              "   car_name_Volvo XC60 D5 Summum  car_name_Volvo XC60 Inscription D5  \\\n",
              "0                              0                                   0   \n",
              "1                              0                                   0   \n",
              "2                              0                                   0   \n",
              "3                              0                                   0   \n",
              "4                              0                                   0   \n",
              "\n",
              "   car_name_Volvo XC60 Inscription D5 BSIV  \n",
              "0                                        0  \n",
              "1                                        0  \n",
              "2                                        0  \n",
              "3                                        0  \n",
              "4                                        0  \n",
              "\n",
              "[5 rows x 1909 columns]"
            ],
            "text/html": [
              "\n",
              "  <div id=\"df-2b8ec36b-df29-43f4-811d-503c541580e9\">\n",
              "    <div class=\"colab-df-container\">\n",
              "      <div>\n",
              "<style scoped>\n",
              "    .dataframe tbody tr th:only-of-type {\n",
              "        vertical-align: middle;\n",
              "    }\n",
              "\n",
              "    .dataframe tbody tr th {\n",
              "        vertical-align: top;\n",
              "    }\n",
              "\n",
              "    .dataframe thead th {\n",
              "        text-align: right;\n",
              "    }\n",
              "</style>\n",
              "<table border=\"1\" class=\"dataframe\">\n",
              "  <thead>\n",
              "    <tr style=\"text-align: right;\">\n",
              "      <th></th>\n",
              "      <th>car_prices_in_lakh</th>\n",
              "      <th>kms_driven</th>\n",
              "      <th>ownership</th>\n",
              "      <th>manufacture</th>\n",
              "      <th>engine</th>\n",
              "      <th>seats</th>\n",
              "      <th>fuel_type_Cng</th>\n",
              "      <th>fuel_type_Diesel</th>\n",
              "      <th>fuel_type_Electric</th>\n",
              "      <th>fuel_type_Lpg</th>\n",
              "      <th>...</th>\n",
              "      <th>car_name_Volvo V40 Cross Country D3</th>\n",
              "      <th>car_name_Volvo XC 90 D5 Inscription</th>\n",
              "      <th>car_name_Volvo XC 90 D5 Inscription BSIV</th>\n",
              "      <th>car_name_Volvo XC 90 D5 Momentum BSIV</th>\n",
              "      <th>car_name_Volvo XC60 B5 Inscripition</th>\n",
              "      <th>car_name_Volvo XC60 D4 Summum</th>\n",
              "      <th>car_name_Volvo XC60 D5 Inscription</th>\n",
              "      <th>car_name_Volvo XC60 D5 Summum</th>\n",
              "      <th>car_name_Volvo XC60 Inscription D5</th>\n",
              "      <th>car_name_Volvo XC60 Inscription D5 BSIV</th>\n",
              "    </tr>\n",
              "  </thead>\n",
              "  <tbody>\n",
              "    <tr>\n",
              "      <th>0</th>\n",
              "      <td>10.03</td>\n",
              "      <td>86226</td>\n",
              "      <td>1</td>\n",
              "      <td>2017</td>\n",
              "      <td>1956</td>\n",
              "      <td>5</td>\n",
              "      <td>0</td>\n",
              "      <td>1</td>\n",
              "      <td>0</td>\n",
              "      <td>0</td>\n",
              "      <td>...</td>\n",
              "      <td>0</td>\n",
              "      <td>0</td>\n",
              "      <td>0</td>\n",
              "      <td>0</td>\n",
              "      <td>0</td>\n",
              "      <td>0</td>\n",
              "      <td>0</td>\n",
              "      <td>0</td>\n",
              "      <td>0</td>\n",
              "      <td>0</td>\n",
              "    </tr>\n",
              "    <tr>\n",
              "      <th>1</th>\n",
              "      <td>12.83</td>\n",
              "      <td>13248</td>\n",
              "      <td>1</td>\n",
              "      <td>2021</td>\n",
              "      <td>1330</td>\n",
              "      <td>5</td>\n",
              "      <td>0</td>\n",
              "      <td>0</td>\n",
              "      <td>0</td>\n",
              "      <td>0</td>\n",
              "      <td>...</td>\n",
              "      <td>0</td>\n",
              "      <td>0</td>\n",
              "      <td>0</td>\n",
              "      <td>0</td>\n",
              "      <td>0</td>\n",
              "      <td>0</td>\n",
              "      <td>0</td>\n",
              "      <td>0</td>\n",
              "      <td>0</td>\n",
              "      <td>0</td>\n",
              "    </tr>\n",
              "    <tr>\n",
              "      <th>2</th>\n",
              "      <td>16.40</td>\n",
              "      <td>60343</td>\n",
              "      <td>1</td>\n",
              "      <td>2016</td>\n",
              "      <td>2494</td>\n",
              "      <td>5</td>\n",
              "      <td>0</td>\n",
              "      <td>0</td>\n",
              "      <td>0</td>\n",
              "      <td>0</td>\n",
              "      <td>...</td>\n",
              "      <td>0</td>\n",
              "      <td>0</td>\n",
              "      <td>0</td>\n",
              "      <td>0</td>\n",
              "      <td>0</td>\n",
              "      <td>0</td>\n",
              "      <td>0</td>\n",
              "      <td>0</td>\n",
              "      <td>0</td>\n",
              "      <td>0</td>\n",
              "    </tr>\n",
              "    <tr>\n",
              "      <th>3</th>\n",
              "      <td>7.77</td>\n",
              "      <td>26696</td>\n",
              "      <td>1</td>\n",
              "      <td>2018</td>\n",
              "      <td>1199</td>\n",
              "      <td>5</td>\n",
              "      <td>0</td>\n",
              "      <td>0</td>\n",
              "      <td>0</td>\n",
              "      <td>0</td>\n",
              "      <td>...</td>\n",
              "      <td>0</td>\n",
              "      <td>0</td>\n",
              "      <td>0</td>\n",
              "      <td>0</td>\n",
              "      <td>0</td>\n",
              "      <td>0</td>\n",
              "      <td>0</td>\n",
              "      <td>0</td>\n",
              "      <td>0</td>\n",
              "      <td>0</td>\n",
              "    </tr>\n",
              "    <tr>\n",
              "      <th>4</th>\n",
              "      <td>5.15</td>\n",
              "      <td>69414</td>\n",
              "      <td>1</td>\n",
              "      <td>2016</td>\n",
              "      <td>1199</td>\n",
              "      <td>5</td>\n",
              "      <td>0</td>\n",
              "      <td>0</td>\n",
              "      <td>0</td>\n",
              "      <td>0</td>\n",
              "      <td>...</td>\n",
              "      <td>0</td>\n",
              "      <td>0</td>\n",
              "      <td>0</td>\n",
              "      <td>0</td>\n",
              "      <td>0</td>\n",
              "      <td>0</td>\n",
              "      <td>0</td>\n",
              "      <td>0</td>\n",
              "      <td>0</td>\n",
              "      <td>0</td>\n",
              "    </tr>\n",
              "  </tbody>\n",
              "</table>\n",
              "<p>5 rows × 1909 columns</p>\n",
              "</div>\n",
              "      <button class=\"colab-df-convert\" onclick=\"convertToInteractive('df-2b8ec36b-df29-43f4-811d-503c541580e9')\"\n",
              "              title=\"Convert this dataframe to an interactive table.\"\n",
              "              style=\"display:none;\">\n",
              "        \n",
              "  <svg xmlns=\"http://www.w3.org/2000/svg\" height=\"24px\"viewBox=\"0 0 24 24\"\n",
              "       width=\"24px\">\n",
              "    <path d=\"M0 0h24v24H0V0z\" fill=\"none\"/>\n",
              "    <path d=\"M18.56 5.44l.94 2.06.94-2.06 2.06-.94-2.06-.94-.94-2.06-.94 2.06-2.06.94zm-11 1L8.5 8.5l.94-2.06 2.06-.94-2.06-.94L8.5 2.5l-.94 2.06-2.06.94zm10 10l.94 2.06.94-2.06 2.06-.94-2.06-.94-.94-2.06-.94 2.06-2.06.94z\"/><path d=\"M17.41 7.96l-1.37-1.37c-.4-.4-.92-.59-1.43-.59-.52 0-1.04.2-1.43.59L10.3 9.45l-7.72 7.72c-.78.78-.78 2.05 0 2.83L4 21.41c.39.39.9.59 1.41.59.51 0 1.02-.2 1.41-.59l7.78-7.78 2.81-2.81c.8-.78.8-2.07 0-2.86zM5.41 20L4 18.59l7.72-7.72 1.47 1.35L5.41 20z\"/>\n",
              "  </svg>\n",
              "      </button>\n",
              "      \n",
              "  <style>\n",
              "    .colab-df-container {\n",
              "      display:flex;\n",
              "      flex-wrap:wrap;\n",
              "      gap: 12px;\n",
              "    }\n",
              "\n",
              "    .colab-df-convert {\n",
              "      background-color: #E8F0FE;\n",
              "      border: none;\n",
              "      border-radius: 50%;\n",
              "      cursor: pointer;\n",
              "      display: none;\n",
              "      fill: #1967D2;\n",
              "      height: 32px;\n",
              "      padding: 0 0 0 0;\n",
              "      width: 32px;\n",
              "    }\n",
              "\n",
              "    .colab-df-convert:hover {\n",
              "      background-color: #E2EBFA;\n",
              "      box-shadow: 0px 1px 2px rgba(60, 64, 67, 0.3), 0px 1px 3px 1px rgba(60, 64, 67, 0.15);\n",
              "      fill: #174EA6;\n",
              "    }\n",
              "\n",
              "    [theme=dark] .colab-df-convert {\n",
              "      background-color: #3B4455;\n",
              "      fill: #D2E3FC;\n",
              "    }\n",
              "\n",
              "    [theme=dark] .colab-df-convert:hover {\n",
              "      background-color: #434B5C;\n",
              "      box-shadow: 0px 1px 3px 1px rgba(0, 0, 0, 0.15);\n",
              "      filter: drop-shadow(0px 1px 2px rgba(0, 0, 0, 0.3));\n",
              "      fill: #FFFFFF;\n",
              "    }\n",
              "  </style>\n",
              "\n",
              "      <script>\n",
              "        const buttonEl =\n",
              "          document.querySelector('#df-2b8ec36b-df29-43f4-811d-503c541580e9 button.colab-df-convert');\n",
              "        buttonEl.style.display =\n",
              "          google.colab.kernel.accessAllowed ? 'block' : 'none';\n",
              "\n",
              "        async function convertToInteractive(key) {\n",
              "          const element = document.querySelector('#df-2b8ec36b-df29-43f4-811d-503c541580e9');\n",
              "          const dataTable =\n",
              "            await google.colab.kernel.invokeFunction('convertToInteractive',\n",
              "                                                     [key], {});\n",
              "          if (!dataTable) return;\n",
              "\n",
              "          const docLinkHtml = 'Like what you see? Visit the ' +\n",
              "            '<a target=\"_blank\" href=https://colab.research.google.com/notebooks/data_table.ipynb>data table notebook</a>'\n",
              "            + ' to learn more about interactive tables.';\n",
              "          element.innerHTML = '';\n",
              "          dataTable['output_type'] = 'display_data';\n",
              "          await google.colab.output.renderOutput(dataTable, element);\n",
              "          const docLink = document.createElement('div');\n",
              "          docLink.innerHTML = docLinkHtml;\n",
              "          element.appendChild(docLink);\n",
              "        }\n",
              "      </script>\n",
              "    </div>\n",
              "  </div>\n",
              "  "
            ]
          },
          "metadata": {},
          "execution_count": 513
        }
      ]
    },
    {
      "cell_type": "code",
      "execution_count": 514,
      "id": "d7c20f26",
      "metadata": {
        "id": "d7c20f26"
      },
      "outputs": [],
      "source": [
        "#escalo los datos\n",
        "from sklearn.preprocessing import StandardScaler\n",
        "scaler = StandardScaler()\n",
        "scaled_df = scaler.fit_transform(df)"
      ]
    },
    {
      "cell_type": "code",
      "execution_count": 515,
      "id": "11ff347f",
      "metadata": {
        "id": "11ff347f"
      },
      "outputs": [],
      "source": [
        "# iniciaré con un modelo de regresión lineal\n",
        "from sklearn.model_selection import train_test_split\n",
        "from sklearn.linear_model import LinearRegression\n",
        "from sklearn.metrics import mean_squared_error, r2_score\n",
        "\n",
        "# Separo los datos en conjuntos de entrenamiento y prueba\n",
        "X = df.drop(\"car_prices_in_lakh\", axis=1)\n",
        "y = df[\"car_prices_in_lakh\"]\n",
        "X_train, X_test, y_train, y_test = train_test_split(X, y, test_size=0.2, random_state=42)\n",
        "\n"
      ]
    },
    {
      "cell_type": "code",
      "source": [
        "# Inicializo el modelo de regresión lineal\n",
        "reg = LinearRegression()\n",
        "\n",
        "# Entreno el modelo con los datos de entrenamiento\n",
        "reg.fit(X_train, y_train)\n"
      ],
      "metadata": {
        "colab": {
          "base_uri": "https://localhost:8080/"
        },
        "id": "q08Wg5q1FIIF",
        "outputId": "6ebbbf14-b2d9-42e8-a1ed-9085d688fe7f"
      },
      "id": "q08Wg5q1FIIF",
      "execution_count": 516,
      "outputs": [
        {
          "output_type": "execute_result",
          "data": {
            "text/plain": [
              "LinearRegression()"
            ]
          },
          "metadata": {},
          "execution_count": 516
        }
      ]
    },
    {
      "cell_type": "code",
      "source": [
        "# Predicciones con los datos de prueba\n",
        "y_pred1 = reg.predict(X_test)\n"
      ],
      "metadata": {
        "id": "DuJ9urj3FM1U"
      },
      "id": "DuJ9urj3FM1U",
      "execution_count": 517,
      "outputs": []
    },
    {
      "cell_type": "code",
      "source": [
        "# Evalúo el rendimiento del modelo\n",
        "rmse_1 = np.sqrt(mean_squared_error(y_test, y_pred1))\n",
        "r2_1 = r2_score(y_test, y_pred1)\n",
        "print(\"Root Mean Squared Error:\", rmse)\n",
        "print(\"R^2 Score:\", r2)"
      ],
      "metadata": {
        "colab": {
          "base_uri": "https://localhost:8080/"
        },
        "id": "BJJGbkHgFRac",
        "outputId": "1cb41647-1e6f-4515-ba62-b292af085c6b"
      },
      "id": "BJJGbkHgFRac",
      "execution_count": 518,
      "outputs": [
        {
          "output_type": "stream",
          "name": "stdout",
          "text": [
            "Root Mean Squared Error: 50141231.50659284\n",
            "R^2 Score: -13323520869635.598\n"
          ]
        }
      ]
    },
    {
      "cell_type": "markdown",
      "source": [
        "El Root Mean Squared Error (RMSE) de 50141231.50659284 indica que el modelo tiene un error medio de 50 millones de rupias, lo que puede ser alto. Por otro lado, un R^2 Score negativo de -13323520869635.598 indica que el modelo no es un buen ajuste para los datos y no explica bien la variabilidad de la variable dependiente."
      ],
      "metadata": {
        "id": "-qva5_aLFuDE"
      },
      "id": "-qva5_aLFuDE"
    },
    {
      "cell_type": "code",
      "source": [
        "#Implementaré un modelo de árboles de decisión\n",
        "from sklearn import tree\n",
        "#Inicializo el modelo:\n",
        "regressor = tree.DecisionTreeRegressor()"
      ],
      "metadata": {
        "id": "2sDtTILjF17j"
      },
      "id": "2sDtTILjF17j",
      "execution_count": 519,
      "outputs": []
    },
    {
      "cell_type": "code",
      "source": [
        "#Entreno el modelo con los datos\n",
        "regressor.fit(X_train, y_train)"
      ],
      "metadata": {
        "colab": {
          "base_uri": "https://localhost:8080/"
        },
        "id": "Z9cA6XK9GyhH",
        "outputId": "8a045434-7311-4393-8578-9ffc9e2d657f"
      },
      "id": "Z9cA6XK9GyhH",
      "execution_count": 520,
      "outputs": [
        {
          "output_type": "execute_result",
          "data": {
            "text/plain": [
              "DecisionTreeRegressor()"
            ]
          },
          "metadata": {},
          "execution_count": 520
        }
      ]
    },
    {
      "cell_type": "code",
      "source": [
        "#Realizo las predicciones con el modelo entrenado\n",
        "y_pred2 = regressor.predict(X_test)\n",
        "#Evalúo el modelo \n",
        "print(\"Mean Squared Error:\", mean_squared_error(y_test, y_pred2))\n",
        "print(\"R^2 Score:\", r2_score(y_test, y_pred))"
      ],
      "metadata": {
        "colab": {
          "base_uri": "https://localhost:8080/"
        },
        "id": "BM7Bo8MBG_ZH",
        "outputId": "f9f12f39-636c-49d1-84e4-c46994dd79c0"
      },
      "id": "BM7Bo8MBG_ZH",
      "execution_count": 521,
      "outputs": [
        {
          "output_type": "stream",
          "name": "stdout",
          "text": [
            "Mean Squared Error: 49.51622982774252\n",
            "R^2 Score: 0.08698255285861223\n"
          ]
        }
      ]
    },
    {
      "cell_type": "markdown",
      "source": [
        "El modelo de árboles de decisión tiene una buena precisión, ya que el R^2 Score es 0.71. Además, el error cuadrático medio (Mean Squared Error) es 54.637, lo que indica que el modelo comete un error promedio de 54.637 en sus predicciones. "
      ],
      "metadata": {
        "id": "_32LNHYqHQuf"
      },
      "id": "_32LNHYqHQuf"
    },
    {
      "cell_type": "code",
      "source": [
        "#Probaremos un modelo KNN\n",
        "from sklearn.neighbors import KNeighborsRegressor\n",
        "regressor = KNeighborsRegressor(n_neighbors=5)\n",
        "regressor.fit(X_train, y_train)\n",
        "# Realizamos las predicciones con el modelo entrenado\n",
        "y_pred3 = regressor.predict(X_test)\n",
        "# Evaluamos el modelo\n",
        "print(\"Mean Squared Error:\", mean_squared_error(y_test, y_pred3))\n",
        "print(\"R^2 Score:\", r2_score(y_test, y_pred3))"
      ],
      "metadata": {
        "colab": {
          "base_uri": "https://localhost:8080/"
        },
        "id": "vXev5Iq9HZOc",
        "outputId": "4eb0b210-fd49-4ca7-9d08-027a45e7b42f"
      },
      "id": "vXev5Iq9HZOc",
      "execution_count": 522,
      "outputs": [
        {
          "output_type": "stream",
          "name": "stdout",
          "text": [
            "Mean Squared Error: 173.23226508068905\n",
            "R^2 Score: 0.0819680463482163\n"
          ]
        }
      ]
    },
    {
      "cell_type": "markdown",
      "source": [
        "El resultado de Mean Squared Error de 172.29 es relativamente alto. Un error alto indica una mala precisión en las predicciones. El R^2 Score de 0.087 es relativamente bajo, lo que significa que el modelo no explica adecuadamente la variabilidad de los datos."
      ],
      "metadata": {
        "id": "mQqccOfcH_9P"
      },
      "id": "mQqccOfcH_9P"
    },
    {
      "cell_type": "code",
      "source": [
        "# Crea un dataframe con los resultados de cada modelo\n",
        "model1_results = pd.DataFrame({'y_test': y_test, 'y_pred': y_pred1})\n",
        "model2_results = pd.DataFrame({'y_test': y_test, 'y_pred': y_pred2})\n",
        "model3_results = pd.DataFrame({'y_test': y_test, 'y_pred': y_pred3})\n",
        "\n",
        "# Concatena los dataframes en uno solo\n",
        "all_results = pd.concat([model1_results, model2_results, model3_results], axis=0)\n",
        "\n",
        "# Crea el mapa de calor con la función heatmap de seaborn\n",
        "sns.heatmap(all_results.corr(), annot=True)\n"
      ],
      "metadata": {
        "colab": {
          "base_uri": "https://localhost:8080/",
          "height": 287
        },
        "id": "BswQ77JXJ0E-",
        "outputId": "6bd98465-063e-4b66-9286-21240dea7fb3"
      },
      "id": "BswQ77JXJ0E-",
      "execution_count": 155,
      "outputs": [
        {
          "output_type": "execute_result",
          "data": {
            "text/plain": [
              "<matplotlib.axes._subplots.AxesSubplot at 0x7f4c87380070>"
            ]
          },
          "metadata": {},
          "execution_count": 155
        },
        {
          "output_type": "display_data",
          "data": {
            "text/plain": [
              "<Figure size 432x288 with 2 Axes>"
            ],
            "image/png": "[encoded data removed]"
          },
          "metadata": {}
        }
      ]
    },
    {
      "cell_type": "code",
      "source": [
        "#Implementaré un modelo no supervisado KMeans\n",
        "from sklearn.cluster import KMeans\n",
        "from sklearn.preprocessing import StandardScaler\n",
        "from sklearn.metrics import silhouette_score\n",
        "import matplotlib.pyplot as plt\n",
        "\n",
        "# Seleccionar variables\n",
        "data = df.drop([\"car_prices_in_lakh\", \"car_name_Volvo V40 Cross Country D3\", \"car_name_Volvo XC 90 D5 Inscription\", \"car_name_Volvo XC 90 D5 Inscription BSIV\", \"car_name_Volvo XC 90 D5 Momentum BSIV\", \"car_name_Volvo XC60 B5 Inscripition\", \"car_name_Volvo XC60 D4 Summum\", \"car_name_Volvo XC60 D5 Inscription\", \"car_name_Volvo XC60 D5 Summum\", \"car_name_Volvo XC60 Inscription D5\", \"car_name_Volvo XC60 Inscription D5 BSIV\"], axis=1)\n",
        "\n",
        "# Normalizar los datos\n",
        "scaler = StandardScaler()\n",
        "data_scaled = scaler.fit_transform(data)\n",
        "\n",
        "# Crear modelo\n",
        "kmeans = KMeans(n_clusters=3)\n",
        "\n",
        "# Entrenar el modelo\n",
        "kmeans.fit(data_scaled)\n",
        "\n",
        "# Predecir clusters\n",
        "predictions = kmeans.predict(data_scaled)\n",
        "\n",
        "# Calcular Silhouette Score\n",
        "silhouette_score = silhouette_score(data_scaled, predictions)\n",
        "print(\"Silhouette Score:\", silhouette_score)\n",
        "\n",
        "\n"
      ],
      "metadata": {
        "colab": {
          "base_uri": "https://localhost:8080/"
        },
        "id": "pGAv2dtKN5Gm",
        "outputId": "5c75d5c7-3a6d-4d8f-8d8a-6268ea9e7b37"
      },
      "id": "pGAv2dtKN5Gm",
      "execution_count": 429,
      "outputs": [
        {
          "output_type": "stream",
          "name": "stdout",
          "text": [
            "Silhouette Score: -0.13278939209400684\n"
          ]
        }
      ]
    },
    {
      "cell_type": "markdown",
      "source": [],
      "metadata": {
        "id": "xwq8UX_HPvcF"
      },
      "id": "xwq8UX_HPvcF"
    },
    {
      "cell_type": "code",
      "source": [
        "# Cmo el puntaje es bajo, intentaré, mendiante en elbow ethod, determinar un mejor número de clústers\n",
        "Sum_of_squared_distances = []\n",
        "K = range(1,10)\n",
        "for k in K:\n",
        "    km = KMeans(n_clusters=k)\n",
        "    km = km.fit(data_scaled)\n",
        "    Sum_of_squared_distances.append(km.inertia_)\n",
        "\n",
        "plt.plot(K, Sum_of_squared_distances, 'bx-')\n",
        "plt.xlabel('k')\n",
        "plt.ylabel('Sum_of_squared_distances')\n",
        "plt.title('Elbow Method For Optimal k')\n",
        "plt.show()\n"
      ],
      "metadata": {
        "colab": {
          "base_uri": "https://localhost:8080/",
          "height": 295
        },
        "id": "9kCksJFNSAhO",
        "outputId": "a06c0c47-4f74-40f0-92b6-9032722615bb"
      },
      "id": "9kCksJFNSAhO",
      "execution_count": 430,
      "outputs": [
        {
          "output_type": "display_data",
          "data": {
            "text/plain": [
              "<Figure size 432x288 with 1 Axes>"
            ],
            "image/png": "[encoded data removed]"
          },
          "metadata": {}
        }
      ]
    },
    {
      "cell_type": "code",
      "source": [
        "#Intentaré de nuevo el elbow methot\n",
        "from sklearn.cluster import KMeans\n",
        "from sklearn.preprocessing import StandardScaler\n",
        "from sklearn.metrics import silhouette_score\n",
        "# Seleccionar variables\n",
        "data2 = df.drop([\"car_prices_in_lakh\", \"car_name_Volvo V40 Cross Country D3\", \"car_name_Volvo XC 90 D5 Inscription\", \"car_name_Volvo XC 90 D5 Inscription BSIV\", \"car_name_Volvo XC 90 D5 Momentum BSIV\", \"car_name_Volvo XC60 B5 Inscripition\", \"car_name_Volvo XC60 D4 Summum\", \"car_name_Volvo XC60 D5 Inscription\", \"car_name_Volvo XC60 D5 Summum\", \"car_name_Volvo XC60 Inscription D5\", \"car_name_Volvo XC60 Inscription D5 BSIV\"], axis=1)\n",
        "\n",
        "# Normalizar los datos\n",
        "scaler2 = StandardScaler()\n",
        "data_scaled2 = scaler2.fit_transform(data2)\n",
        "\n",
        "# Crear modelo\n",
        "kmeans2 = KMeans(n_clusters=4)\n",
        "\n",
        "# Entrenar el modelo\n",
        "kmeans2.fit(data_scaled2)\n",
        "\n",
        "# Predecir clusters\n",
        "predictions2 = kmeans2.predict(data_scaled2)\n",
        "\n",
        "# Calcular Silhouette Score\n",
        "silhouette_score2 = silhouette_score(data_scaled2, predictions2)\n",
        "print(\"Silhouette Score:\", silhouette_score2)\n",
        "\n",
        "\n"
      ],
      "metadata": {
        "colab": {
          "base_uri": "https://localhost:8080/"
        },
        "id": "muwwaasDSldO",
        "outputId": "8e125fbb-bde5-4476-caf7-d6764144fba7"
      },
      "id": "muwwaasDSldO",
      "execution_count": 478,
      "outputs": [
        {
          "output_type": "stream",
          "name": "stdout",
          "text": [
            "Silhouette Score: -0.2629761013255142\n"
          ]
        }
      ]
    },
    {
      "cell_type": "markdown",
      "source": [
        "* El Silhouette Score obtenido en ambos resultados es bajo, lo que indica que la asignación de los datos a los clústers no es muy coherente y puede haber una superposición significativa de los datos en los clústers.\n",
        "\n",
        "* Es necesario investigar más acerca de los datos y verificar si se requiere una pre-procesamiento adicional, por ejemplo, eliminación de outliers o ajuste de escalas para mejorar la coherencia en la asignación de los datos a los clústers."
      ],
      "metadata": {
        "id": "Rc--5yIHUJ7m"
      },
      "id": "Rc--5yIHUJ7m"
    },
    {
      "cell_type": "markdown",
      "id": "36a8c534",
      "metadata": {
        "id": "36a8c534"
      },
      "source": [
        "## Conclusiones\n",
        "\n",
        "* El modelo más preciso es ll modelo de árboles de decisión, pues tiene una buena precisión, ya que el R^2 Score es 0.71. Además, el error cuadrático medio (Mean Squared Error) es 54.637, lo que indica que el modelo comete un error promedio de 54.637 en sus predicciones.\n"
      ]
    },
    {
      "cell_type": "markdown",
      "id": "8273c23d",
      "metadata": {
        "id": "8273c23d"
      },
      "source": [
        "## Referencias\n",
        "\n",
        "* [Curso MAT281_2022](https://github.com/fralfaro/MAT281_2022)\n",
        "* [Curso CodingDojo-DataScience](https://github.com/fralfaro/CodingDojo-DataScience)"
      ]
    },
    {
      "cell_type": "code",
      "source": [],
      "metadata": {
        "id": "jXCIhyP_Watx"
      },
      "id": "jXCIhyP_Watx",
      "execution_count": null,
      "outputs": []
    }
  ],
  "metadata": {
    "kernelspec": {
      "display_name": "Python 3 (ipykernel)",
      "language": "python",
      "name": "python3"
    },
    "language_info": {
      "codemirror_mode": {
        "name": "ipython",
        "version": 3
      },
      "file_extension": ".py",
      "mimetype": "text/x-python",
      "name": "python",
      "nbconvert_exporter": "python",
      "pygments_lexer": "ipython3",
      "version": "3.8.5"
    },
    "colab": {
      "provenance": [],
      "include_colab_link": true
    }
  },
  "nbformat": 4,
  "nbformat_minor": 5
}