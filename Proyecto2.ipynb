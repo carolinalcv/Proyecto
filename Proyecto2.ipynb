{
  "cells": [
    {
      "cell_type": "markdown",
      "metadata": {
        "id": "view-in-github",
        "colab_type": "text"
      },
      "source": [
        "<a href=\"https://colab.research.google.com/github/carolinalcv/Proyecto/blob/main/Proyecto2.ipynb\" target=\"_parent\"><img src=\"https://colab.research.google.com/assets/colab-badge.svg\" alt=\"Open In Colab\"/></a>"
      ]
    },
    {
      "cell_type": "markdown",
      "id": "ccc005e4",
      "metadata": {
        "id": "ccc005e4"
      },
      "source": [
        "<a href=\"https://colab.research.google.com/github/fralfaro/CodingDojo-DataScience/blob/main/template_proyecto/template.ipynb\" target=\"_parent\"><img src=\"https://colab.research.google.com/assets/colab-badge.svg\" alt=\"Open In Colab\"/></a>\n",
        "\n",
        "# Proyecto 2\n",
        "\n",
        "## Datos Personales\n",
        "\n",
        "* **Nombre Completo**: Carolina Leguizamón\n",
        "* **ID Coding Dojo**: 0000179745\n",
        "* **Track**: Machine Learning"
      ]
    },
    {
      "cell_type": "markdown",
      "id": "eb011589",
      "metadata": {
        "id": "eb011589"
      },
      "source": [
        "## Descripción del Problema\n",
        "\n",
        "Se requiere predecir el precio de los carros con base en la información del dataset. \n",
        "\n",
        "### Descripción del Conjunto de Datos\n",
        "\n",
        "|   | car_name                               | car_prices_in_rupee | kms_driven | fuel_type | transmission | ownership | manufacture | engine  | Seats   |\n",
        "|---|----------------------------------------|---------------------|------------|-----------|--------------|-----------|-------------|---------|---------|\n",
        "| 0 | Jeep Compass 2.0 Longitude Option BSIV | 10.03 Lakh          | 86,226 kms | Diesel    | Manual       | 1st Owner | 2017        | 1956 cc | 5 Seats |\n",
        "| 1 | Renault Duster RXZ Turbo CVT           | 12.83 Lakh          | 13,248 kms | Petrol    | Automatic    | 1st Owner | 2021        | 1330 cc | 5 Seats |"
      ]
    },
    {
      "cell_type": "markdown",
      "id": "bd05e80d",
      "metadata": {
        "id": "bd05e80d"
      },
      "source": [
        "## Solución"
      ]
    },
    {
      "cell_type": "code",
      "execution_count": 266,
      "id": "2f2af813",
      "metadata": {
        "id": "2f2af813"
      },
      "outputs": [],
      "source": [
        "# librerias\n",
        " \n",
        "import numpy as np\n",
        "import pandas as pd\n",
        "\n",
        "import matplotlib.pyplot as plt\n",
        "import seaborn as sns \n",
        "\n",
        "from sklearn import datasets\n",
        "from sklearn.model_selection import train_test_split\n",
        "from sklearn.linear_model import LinearRegression\n",
        "\n",
        "# Ver gráficos de matplotlib en jupyter notebook/lab\n",
        "%matplotlib inline"
      ]
    },
    {
      "cell_type": "code",
      "source": [
        "#Google Colab\n",
        "from google.colab import drive\n",
        "df = pd.read_csv(\"/content/car_price.csv\")\n",
        "df.head()"
      ],
      "metadata": {
        "colab": {
          "base_uri": "https://localhost:8080/",
          "height": 354
        },
        "id": "mCx7AagdgeDD",
        "outputId": "8b1bca19-c271-4204-b3df-ce8c8e0223e9"
      },
      "id": "mCx7AagdgeDD",
      "execution_count": 267,
      "outputs": [
        {
          "output_type": "execute_result",
          "data": {
            "text/plain": [
              "   Unnamed: 0                                car_name car_prices_in_rupee  \\\n",
              "0           0  Jeep Compass 2.0 Longitude Option BSIV          10.03 Lakh   \n",
              "1           1            Renault Duster RXZ Turbo CVT          12.83 Lakh   \n",
              "2           2                      Toyota Camry 2.5 G          16.40 Lakh   \n",
              "3           3                       Honda Jazz VX CVT           7.77 Lakh   \n",
              "4           4        Volkswagen Polo 1.2 MPI Highline           5.15 Lakh   \n",
              "\n",
              "   kms_driven fuel_type transmission  ownership  manufacture   engine    Seats  \n",
              "0  86,226 kms    Diesel       Manual  1st Owner         2017  1956 cc  5 Seats  \n",
              "1  13,248 kms    Petrol    Automatic  1st Owner         2021  1330 cc  5 Seats  \n",
              "2  60,343 kms    Petrol    Automatic  1st Owner         2016  2494 cc  5 Seats  \n",
              "3  26,696 kms    Petrol    Automatic  1st Owner         2018  1199 cc  5 Seats  \n",
              "4  69,414 kms    Petrol       Manual  1st Owner         2016  1199 cc  5 Seats  "
            ],
            "text/html": [
              "\n",
              "  <div id=\"df-1521a86b-47f5-49b4-9c90-b961b6d4fe2e\">\n",
              "    <div class=\"colab-df-container\">\n",
              "      <div>\n",
              "<style scoped>\n",
              "    .dataframe tbody tr th:only-of-type {\n",
              "        vertical-align: middle;\n",
              "    }\n",
              "\n",
              "    .dataframe tbody tr th {\n",
              "        vertical-align: top;\n",
              "    }\n",
              "\n",
              "    .dataframe thead th {\n",
              "        text-align: right;\n",
              "    }\n",
              "</style>\n",
              "<table border=\"1\" class=\"dataframe\">\n",
              "  <thead>\n",
              "    <tr style=\"text-align: right;\">\n",
              "      <th></th>\n",
              "      <th>Unnamed: 0</th>\n",
              "      <th>car_name</th>\n",
              "      <th>car_prices_in_rupee</th>\n",
              "      <th>kms_driven</th>\n",
              "      <th>fuel_type</th>\n",
              "      <th>transmission</th>\n",
              "      <th>ownership</th>\n",
              "      <th>manufacture</th>\n",
              "      <th>engine</th>\n",
              "      <th>Seats</th>\n",
              "    </tr>\n",
              "  </thead>\n",
              "  <tbody>\n",
              "    <tr>\n",
              "      <th>0</th>\n",
              "      <td>0</td>\n",
              "      <td>Jeep Compass 2.0 Longitude Option BSIV</td>\n",
              "      <td>10.03 Lakh</td>\n",
              "      <td>86,226 kms</td>\n",
              "      <td>Diesel</td>\n",
              "      <td>Manual</td>\n",
              "      <td>1st Owner</td>\n",
              "      <td>2017</td>\n",
              "      <td>1956 cc</td>\n",
              "      <td>5 Seats</td>\n",
              "    </tr>\n",
              "    <tr>\n",
              "      <th>1</th>\n",
              "      <td>1</td>\n",
              "      <td>Renault Duster RXZ Turbo CVT</td>\n",
              "      <td>12.83 Lakh</td>\n",
              "      <td>13,248 kms</td>\n",
              "      <td>Petrol</td>\n",
              "      <td>Automatic</td>\n",
              "      <td>1st Owner</td>\n",
              "      <td>2021</td>\n",
              "      <td>1330 cc</td>\n",
              "      <td>5 Seats</td>\n",
              "    </tr>\n",
              "    <tr>\n",
              "      <th>2</th>\n",
              "      <td>2</td>\n",
              "      <td>Toyota Camry 2.5 G</td>\n",
              "      <td>16.40 Lakh</td>\n",
              "      <td>60,343 kms</td>\n",
              "      <td>Petrol</td>\n",
              "      <td>Automatic</td>\n",
              "      <td>1st Owner</td>\n",
              "      <td>2016</td>\n",
              "      <td>2494 cc</td>\n",
              "      <td>5 Seats</td>\n",
              "    </tr>\n",
              "    <tr>\n",
              "      <th>3</th>\n",
              "      <td>3</td>\n",
              "      <td>Honda Jazz VX CVT</td>\n",
              "      <td>7.77 Lakh</td>\n",
              "      <td>26,696 kms</td>\n",
              "      <td>Petrol</td>\n",
              "      <td>Automatic</td>\n",
              "      <td>1st Owner</td>\n",
              "      <td>2018</td>\n",
              "      <td>1199 cc</td>\n",
              "      <td>5 Seats</td>\n",
              "    </tr>\n",
              "    <tr>\n",
              "      <th>4</th>\n",
              "      <td>4</td>\n",
              "      <td>Volkswagen Polo 1.2 MPI Highline</td>\n",
              "      <td>5.15 Lakh</td>\n",
              "      <td>69,414 kms</td>\n",
              "      <td>Petrol</td>\n",
              "      <td>Manual</td>\n",
              "      <td>1st Owner</td>\n",
              "      <td>2016</td>\n",
              "      <td>1199 cc</td>\n",
              "      <td>5 Seats</td>\n",
              "    </tr>\n",
              "  </tbody>\n",
              "</table>\n",
              "</div>\n",
              "      <button class=\"colab-df-convert\" onclick=\"convertToInteractive('df-1521a86b-47f5-49b4-9c90-b961b6d4fe2e')\"\n",
              "              title=\"Convert this dataframe to an interactive table.\"\n",
              "              style=\"display:none;\">\n",
              "        \n",
              "  <svg xmlns=\"http://www.w3.org/2000/svg\" height=\"24px\"viewBox=\"0 0 24 24\"\n",
              "       width=\"24px\">\n",
              "    <path d=\"M0 0h24v24H0V0z\" fill=\"none\"/>\n",
              "    <path d=\"M18.56 5.44l.94 2.06.94-2.06 2.06-.94-2.06-.94-.94-2.06-.94 2.06-2.06.94zm-11 1L8.5 8.5l.94-2.06 2.06-.94-2.06-.94L8.5 2.5l-.94 2.06-2.06.94zm10 10l.94 2.06.94-2.06 2.06-.94-2.06-.94-.94-2.06-.94 2.06-2.06.94z\"/><path d=\"M17.41 7.96l-1.37-1.37c-.4-.4-.92-.59-1.43-.59-.52 0-1.04.2-1.43.59L10.3 9.45l-7.72 7.72c-.78.78-.78 2.05 0 2.83L4 21.41c.39.39.9.59 1.41.59.51 0 1.02-.2 1.41-.59l7.78-7.78 2.81-2.81c.8-.78.8-2.07 0-2.86zM5.41 20L4 18.59l7.72-7.72 1.47 1.35L5.41 20z\"/>\n",
              "  </svg>\n",
              "      </button>\n",
              "      \n",
              "  <style>\n",
              "    .colab-df-container {\n",
              "      display:flex;\n",
              "      flex-wrap:wrap;\n",
              "      gap: 12px;\n",
              "    }\n",
              "\n",
              "    .colab-df-convert {\n",
              "      background-color: #E8F0FE;\n",
              "      border: none;\n",
              "      border-radius: 50%;\n",
              "      cursor: pointer;\n",
              "      display: none;\n",
              "      fill: #1967D2;\n",
              "      height: 32px;\n",
              "      padding: 0 0 0 0;\n",
              "      width: 32px;\n",
              "    }\n",
              "\n",
              "    .colab-df-convert:hover {\n",
              "      background-color: #E2EBFA;\n",
              "      box-shadow: 0px 1px 2px rgba(60, 64, 67, 0.3), 0px 1px 3px 1px rgba(60, 64, 67, 0.15);\n",
              "      fill: #174EA6;\n",
              "    }\n",
              "\n",
              "    [theme=dark] .colab-df-convert {\n",
              "      background-color: #3B4455;\n",
              "      fill: #D2E3FC;\n",
              "    }\n",
              "\n",
              "    [theme=dark] .colab-df-convert:hover {\n",
              "      background-color: #434B5C;\n",
              "      box-shadow: 0px 1px 3px 1px rgba(0, 0, 0, 0.15);\n",
              "      filter: drop-shadow(0px 1px 2px rgba(0, 0, 0, 0.3));\n",
              "      fill: #FFFFFF;\n",
              "    }\n",
              "  </style>\n",
              "\n",
              "      <script>\n",
              "        const buttonEl =\n",
              "          document.querySelector('#df-1521a86b-47f5-49b4-9c90-b961b6d4fe2e button.colab-df-convert');\n",
              "        buttonEl.style.display =\n",
              "          google.colab.kernel.accessAllowed ? 'block' : 'none';\n",
              "\n",
              "        async function convertToInteractive(key) {\n",
              "          const element = document.querySelector('#df-1521a86b-47f5-49b4-9c90-b961b6d4fe2e');\n",
              "          const dataTable =\n",
              "            await google.colab.kernel.invokeFunction('convertToInteractive',\n",
              "                                                     [key], {});\n",
              "          if (!dataTable) return;\n",
              "\n",
              "          const docLinkHtml = 'Like what you see? Visit the ' +\n",
              "            '<a target=\"_blank\" href=https://colab.research.google.com/notebooks/data_table.ipynb>data table notebook</a>'\n",
              "            + ' to learn more about interactive tables.';\n",
              "          element.innerHTML = '';\n",
              "          dataTable['output_type'] = 'display_data';\n",
              "          await google.colab.output.renderOutput(dataTable, element);\n",
              "          const docLink = document.createElement('div');\n",
              "          docLink.innerHTML = docLinkHtml;\n",
              "          element.appendChild(docLink);\n",
              "        }\n",
              "      </script>\n",
              "    </div>\n",
              "  </div>\n",
              "  "
            ]
          },
          "metadata": {},
          "execution_count": 267
        }
      ]
    },
    {
      "cell_type": "markdown",
      "id": "189e133c",
      "metadata": {
        "id": "189e133c"
      },
      "source": [
        "### I.- Análisis Exploratorio"
      ]
    },
    {
      "cell_type": "markdown",
      "id": "7e6600f4",
      "metadata": {
        "id": "7e6600f4"
      },
      "source": [
        "**Manipulación de datos**"
      ]
    },
    {
      "cell_type": "code",
      "execution_count": 268,
      "id": "0b06bb13",
      "metadata": {
        "id": "0b06bb13",
        "colab": {
          "base_uri": "https://localhost:8080/"
        },
        "outputId": "8cc503f7-23c4-4fb7-db1e-8edf5c3a1585"
      },
      "outputs": [
        {
          "output_type": "stream",
          "name": "stdout",
          "text": [
            "<class 'pandas.core.frame.DataFrame'>\n",
            "RangeIndex: 5512 entries, 0 to 5511\n",
            "Data columns (total 10 columns):\n",
            " #   Column               Non-Null Count  Dtype \n",
            "---  ------               --------------  ----- \n",
            " 0   Unnamed: 0           5512 non-null   int64 \n",
            " 1   car_name             5512 non-null   object\n",
            " 2   car_prices_in_rupee  5512 non-null   object\n",
            " 3   kms_driven           5512 non-null   object\n",
            " 4   fuel_type            5512 non-null   object\n",
            " 5   transmission         5512 non-null   object\n",
            " 6   ownership            5512 non-null   object\n",
            " 7   manufacture          5512 non-null   int64 \n",
            " 8   engine               5512 non-null   object\n",
            " 9   Seats                5512 non-null   object\n",
            "dtypes: int64(2), object(8)\n",
            "memory usage: 430.8+ KB\n"
          ]
        },
        {
          "output_type": "execute_result",
          "data": {
            "text/plain": [
              "(5512, 10)"
            ]
          },
          "metadata": {},
          "execution_count": 268
        }
      ],
      "source": [
        "#Analizo los datos de manera general\n",
        "df.info()\n",
        "df.shape"
      ]
    },
    {
      "cell_type": "code",
      "source": [
        "df.describe()"
      ],
      "metadata": {
        "colab": {
          "base_uri": "https://localhost:8080/",
          "height": 300
        },
        "id": "Wa7TPQf9ioaE",
        "outputId": "4ba48d88-5f88-4175-83fa-2e5eb8c8448b"
      },
      "id": "Wa7TPQf9ioaE",
      "execution_count": 269,
      "outputs": [
        {
          "output_type": "execute_result",
          "data": {
            "text/plain": [
              "        Unnamed: 0  manufacture\n",
              "count  5512.000000  5512.000000\n",
              "mean   2755.500000  2015.455552\n",
              "std    1591.321673     3.927974\n",
              "min       0.000000  1995.000000\n",
              "25%    1377.750000  2013.000000\n",
              "50%    2755.500000  2016.000000\n",
              "75%    4133.250000  2018.000000\n",
              "max    5511.000000  2022.000000"
            ],
            "text/html": [
              "\n",
              "  <div id=\"df-b5484657-594b-4ae7-a231-d0a2507af16d\">\n",
              "    <div class=\"colab-df-container\">\n",
              "      <div>\n",
              "<style scoped>\n",
              "    .dataframe tbody tr th:only-of-type {\n",
              "        vertical-align: middle;\n",
              "    }\n",
              "\n",
              "    .dataframe tbody tr th {\n",
              "        vertical-align: top;\n",
              "    }\n",
              "\n",
              "    .dataframe thead th {\n",
              "        text-align: right;\n",
              "    }\n",
              "</style>\n",
              "<table border=\"1\" class=\"dataframe\">\n",
              "  <thead>\n",
              "    <tr style=\"text-align: right;\">\n",
              "      <th></th>\n",
              "      <th>Unnamed: 0</th>\n",
              "      <th>manufacture</th>\n",
              "    </tr>\n",
              "  </thead>\n",
              "  <tbody>\n",
              "    <tr>\n",
              "      <th>count</th>\n",
              "      <td>5512.000000</td>\n",
              "      <td>5512.000000</td>\n",
              "    </tr>\n",
              "    <tr>\n",
              "      <th>mean</th>\n",
              "      <td>2755.500000</td>\n",
              "      <td>2015.455552</td>\n",
              "    </tr>\n",
              "    <tr>\n",
              "      <th>std</th>\n",
              "      <td>1591.321673</td>\n",
              "      <td>3.927974</td>\n",
              "    </tr>\n",
              "    <tr>\n",
              "      <th>min</th>\n",
              "      <td>0.000000</td>\n",
              "      <td>1995.000000</td>\n",
              "    </tr>\n",
              "    <tr>\n",
              "      <th>25%</th>\n",
              "      <td>1377.750000</td>\n",
              "      <td>2013.000000</td>\n",
              "    </tr>\n",
              "    <tr>\n",
              "      <th>50%</th>\n",
              "      <td>2755.500000</td>\n",
              "      <td>2016.000000</td>\n",
              "    </tr>\n",
              "    <tr>\n",
              "      <th>75%</th>\n",
              "      <td>4133.250000</td>\n",
              "      <td>2018.000000</td>\n",
              "    </tr>\n",
              "    <tr>\n",
              "      <th>max</th>\n",
              "      <td>5511.000000</td>\n",
              "      <td>2022.000000</td>\n",
              "    </tr>\n",
              "  </tbody>\n",
              "</table>\n",
              "</div>\n",
              "      <button class=\"colab-df-convert\" onclick=\"convertToInteractive('df-b5484657-594b-4ae7-a231-d0a2507af16d')\"\n",
              "              title=\"Convert this dataframe to an interactive table.\"\n",
              "              style=\"display:none;\">\n",
              "        \n",
              "  <svg xmlns=\"http://www.w3.org/2000/svg\" height=\"24px\"viewBox=\"0 0 24 24\"\n",
              "       width=\"24px\">\n",
              "    <path d=\"M0 0h24v24H0V0z\" fill=\"none\"/>\n",
              "    <path d=\"M18.56 5.44l.94 2.06.94-2.06 2.06-.94-2.06-.94-.94-2.06-.94 2.06-2.06.94zm-11 1L8.5 8.5l.94-2.06 2.06-.94-2.06-.94L8.5 2.5l-.94 2.06-2.06.94zm10 10l.94 2.06.94-2.06 2.06-.94-2.06-.94-.94-2.06-.94 2.06-2.06.94z\"/><path d=\"M17.41 7.96l-1.37-1.37c-.4-.4-.92-.59-1.43-.59-.52 0-1.04.2-1.43.59L10.3 9.45l-7.72 7.72c-.78.78-.78 2.05 0 2.83L4 21.41c.39.39.9.59 1.41.59.51 0 1.02-.2 1.41-.59l7.78-7.78 2.81-2.81c.8-.78.8-2.07 0-2.86zM5.41 20L4 18.59l7.72-7.72 1.47 1.35L5.41 20z\"/>\n",
              "  </svg>\n",
              "      </button>\n",
              "      \n",
              "  <style>\n",
              "    .colab-df-container {\n",
              "      display:flex;\n",
              "      flex-wrap:wrap;\n",
              "      gap: 12px;\n",
              "    }\n",
              "\n",
              "    .colab-df-convert {\n",
              "      background-color: #E8F0FE;\n",
              "      border: none;\n",
              "      border-radius: 50%;\n",
              "      cursor: pointer;\n",
              "      display: none;\n",
              "      fill: #1967D2;\n",
              "      height: 32px;\n",
              "      padding: 0 0 0 0;\n",
              "      width: 32px;\n",
              "    }\n",
              "\n",
              "    .colab-df-convert:hover {\n",
              "      background-color: #E2EBFA;\n",
              "      box-shadow: 0px 1px 2px rgba(60, 64, 67, 0.3), 0px 1px 3px 1px rgba(60, 64, 67, 0.15);\n",
              "      fill: #174EA6;\n",
              "    }\n",
              "\n",
              "    [theme=dark] .colab-df-convert {\n",
              "      background-color: #3B4455;\n",
              "      fill: #D2E3FC;\n",
              "    }\n",
              "\n",
              "    [theme=dark] .colab-df-convert:hover {\n",
              "      background-color: #434B5C;\n",
              "      box-shadow: 0px 1px 3px 1px rgba(0, 0, 0, 0.15);\n",
              "      filter: drop-shadow(0px 1px 2px rgba(0, 0, 0, 0.3));\n",
              "      fill: #FFFFFF;\n",
              "    }\n",
              "  </style>\n",
              "\n",
              "      <script>\n",
              "        const buttonEl =\n",
              "          document.querySelector('#df-b5484657-594b-4ae7-a231-d0a2507af16d button.colab-df-convert');\n",
              "        buttonEl.style.display =\n",
              "          google.colab.kernel.accessAllowed ? 'block' : 'none';\n",
              "\n",
              "        async function convertToInteractive(key) {\n",
              "          const element = document.querySelector('#df-b5484657-594b-4ae7-a231-d0a2507af16d');\n",
              "          const dataTable =\n",
              "            await google.colab.kernel.invokeFunction('convertToInteractive',\n",
              "                                                     [key], {});\n",
              "          if (!dataTable) return;\n",
              "\n",
              "          const docLinkHtml = 'Like what you see? Visit the ' +\n",
              "            '<a target=\"_blank\" href=https://colab.research.google.com/notebooks/data_table.ipynb>data table notebook</a>'\n",
              "            + ' to learn more about interactive tables.';\n",
              "          element.innerHTML = '';\n",
              "          dataTable['output_type'] = 'display_data';\n",
              "          await google.colab.output.renderOutput(dataTable, element);\n",
              "          const docLink = document.createElement('div');\n",
              "          docLink.innerHTML = docLinkHtml;\n",
              "          element.appendChild(docLink);\n",
              "        }\n",
              "      </script>\n",
              "    </div>\n",
              "  </div>\n",
              "  "
            ]
          },
          "metadata": {},
          "execution_count": 269
        }
      ]
    },
    {
      "cell_type": "code",
      "source": [
        "df.isna().sum()"
      ],
      "metadata": {
        "colab": {
          "base_uri": "https://localhost:8080/"
        },
        "id": "q9wGrUb_i7NR",
        "outputId": "07710501-e1af-46c2-cdc5-f5f627709d31"
      },
      "id": "q9wGrUb_i7NR",
      "execution_count": 270,
      "outputs": [
        {
          "output_type": "execute_result",
          "data": {
            "text/plain": [
              "Unnamed: 0             0\n",
              "car_name               0\n",
              "car_prices_in_rupee    0\n",
              "kms_driven             0\n",
              "fuel_type              0\n",
              "transmission           0\n",
              "ownership              0\n",
              "manufacture            0\n",
              "engine                 0\n",
              "Seats                  0\n",
              "dtype: int64"
            ]
          },
          "metadata": {},
          "execution_count": 270
        }
      ]
    },
    {
      "cell_type": "code",
      "source": [
        "#Reviso los datos de cada una de las columnas \n",
        "df[\"car_name\"].value_counts()"
      ],
      "metadata": {
        "colab": {
          "base_uri": "https://localhost:8080/"
        },
        "id": "JhcXF3Bli_YH",
        "outputId": "d94f562b-c04a-48c2-b724-08c187882bc5"
      },
      "id": "JhcXF3Bli_YH",
      "execution_count": 271,
      "outputs": [
        {
          "output_type": "execute_result",
          "data": {
            "text/plain": [
              "Maruti Alto 800 LXI          53\n",
              "Maruti Swift VXI             46\n",
              "Maruti Wagon R VXI BS IV     43\n",
              "Maruti Swift Dzire VDI       42\n",
              "Maruti Swift Dzire VXI       42\n",
              "                             ..\n",
              "Tata New Safari XT            1\n",
              "Hyundai Creta 1.6 E Plus      1\n",
              "Toyota Etios 2014-2016 GD     1\n",
              "Mahindra Marazzo M8 8Str      1\n",
              "BMW M Series M4 Coupe         1\n",
              "Name: car_name, Length: 1896, dtype: int64"
            ]
          },
          "metadata": {},
          "execution_count": 271
        }
      ]
    },
    {
      "cell_type": "code",
      "source": [
        "df[\"car_prices_in_rupee\"].value_counts()"
      ],
      "metadata": {
        "colab": {
          "base_uri": "https://localhost:8080/"
        },
        "id": "TR_g8EyCmFLj",
        "outputId": "32fc86df-2616-4a2f-ce34-6474870df8ea"
      },
      "id": "TR_g8EyCmFLj",
      "execution_count": 272,
      "outputs": [
        {
          "output_type": "execute_result",
          "data": {
            "text/plain": [
              "4.50 Lakh     62\n",
              "3.50 Lakh     62\n",
              "3 Lakh        58\n",
              "6.50 Lakh     57\n",
              "5.50 Lakh     52\n",
              "              ..\n",
              "12.03 Lakh     1\n",
              "15.62 Lakh     1\n",
              "7.92 Lakh      1\n",
              "29.25 Lakh     1\n",
              "31.90 Lakh     1\n",
              "Name: car_prices_in_rupee, Length: 1300, dtype: int64"
            ]
          },
          "metadata": {},
          "execution_count": 272
        }
      ]
    },
    {
      "cell_type": "code",
      "source": [
        "#Esta columna la convertiré en float eliminando los strings\n",
        "#df[\"car_prices_in_rupee\"]=df[\"car_prices_in_rupee\"].str.replace(\"Lakh\",\"\")\n"
      ],
      "metadata": {
        "id": "P3BX5yIIvEDT"
      },
      "id": "P3BX5yIIvEDT",
      "execution_count": 273,
      "outputs": []
    },
    {
      "cell_type": "code",
      "source": [
        "#df[\"car_prices_in_rupee\"] = pd.to_numeric(df[\"car_prices_in_rupee\"], downcast=\"float\")\n",
        "#aún no se puede convertir en valor número por el error: ValueError: Unable to parse string \"1.10 Crore\" at position 119\n",
        "#El crore (cr)(del prácrito kroḍi) denota diez millones (10,000,000 o 107 en notación científica) y es igual a 100 lakhs \n",
        "#en el sistema de numeración india.\n",
        "\n",
        "#entonces hay que convertir los valores Crore para poder eliminar ese string\n"
      ],
      "metadata": {
        "id": "AJSmsZMXt5lr"
      },
      "id": "AJSmsZMXt5lr",
      "execution_count": 274,
      "outputs": []
    },
    {
      "cell_type": "code",
      "source": [
        "#primero creo otra columna \"currency\" y asigno la denominación de las monedas.\n",
        "df.loc[df[\"car_prices_in_rupee\"].str.contains(\"Lakh\"), \"currency\"] = \"Lakh\"\n",
        "df.loc[df[\"car_prices_in_rupee\"].str.contains(\"Crore\"), \"currency\"] = \"Crore\"\n",
        "df.loc[df[\"currency\"].isnull(), \"currency\"] = \"Rupias\""
      ],
      "metadata": {
        "id": "J9TU1IXl0A36"
      },
      "id": "J9TU1IXl0A36",
      "execution_count": 275,
      "outputs": []
    },
    {
      "cell_type": "code",
      "source": [
        "#luego, elimino los string de la columna car prices\n",
        "df[\"car_prices_in_rupee\"] = df[\"car_prices_in_rupee\"].str.replace(\"Lakh\", \"\")\n",
        "df[\"car_prices_in_rupee\"] = df[\"car_prices_in_rupee\"].str.replace(\"Crore\", \"\")\n"
      ],
      "metadata": {
        "id": "RdoreHSFTgtq"
      },
      "id": "RdoreHSFTgtq",
      "execution_count": 276,
      "outputs": []
    },
    {
      "cell_type": "code",
      "source": [
        "#convierto los valores en flotantes\n",
        "df[\"car_prices_in_rupee\"] = df[\"car_prices_in_rupee\"].str.replace(\",\", \"\")\n",
        "df[\"car_prices_in_rupee\"] = df[\"car_prices_in_rupee\"].astype(float)\n"
      ],
      "metadata": {
        "id": "Gp8joaeJZJ0A"
      },
      "id": "Gp8joaeJZJ0A",
      "execution_count": 277,
      "outputs": []
    },
    {
      "cell_type": "code",
      "source": [
        "# en donde la columa currency sea x le pido que haga la respectiva conversión de la moneda. \n",
        "#Todas quedan en Lakh porque en rupias quedaban valores muy grandes\n",
        "\n",
        "df[\"car_prices_in_rupee\"] = np.where(df[\"currency\"] == \"Lakh\", df[\"car_prices_in_rupee\"], 0)\n",
        "df[\"car_prices_in_rupee\"] = np.where(df[\"currency\"] == \"Crore\", df[\"car_prices_in_rupee\"] * 100, df[\"car_prices_in_rupee\"])\n",
        "df[\"car_prices_in_rupee\"] = np.where(df[\"currency\"] == \"Rupias\", df[\"car_prices_in_rupee\"] / 100000, df[\"car_prices_in_rupee\"])"
      ],
      "metadata": {
        "id": "FQiJiSb5ShSa"
      },
      "id": "FQiJiSb5ShSa",
      "execution_count": 278,
      "outputs": []
    },
    {
      "cell_type": "code",
      "source": [
        "#le cambio el nombre a la columna para mayor claridad\n",
        "df = df.rename(columns={\"car_prices_in_rupee\": \"car_prices_in_lakh\"})\n",
        "#y elimino la columna de currency\n",
        "df=df.drop(columns=\"currency\",axis=1)"
      ],
      "metadata": {
        "id": "QTkDT1EgZ7HC"
      },
      "id": "QTkDT1EgZ7HC",
      "execution_count": 279,
      "outputs": []
    },
    {
      "cell_type": "code",
      "source": [
        "df.head()"
      ],
      "metadata": {
        "colab": {
          "base_uri": "https://localhost:8080/",
          "height": 354
        },
        "id": "T2VRwVARY5jY",
        "outputId": "ee018f95-786f-42af-c08e-3fd287a91eff"
      },
      "id": "T2VRwVARY5jY",
      "execution_count": 280,
      "outputs": [
        {
          "output_type": "execute_result",
          "data": {
            "text/plain": [
              "   Unnamed: 0                                car_name  car_prices_in_lakh  \\\n",
              "0           0  Jeep Compass 2.0 Longitude Option BSIV               10.03   \n",
              "1           1            Renault Duster RXZ Turbo CVT               12.83   \n",
              "2           2                      Toyota Camry 2.5 G               16.40   \n",
              "3           3                       Honda Jazz VX CVT                7.77   \n",
              "4           4        Volkswagen Polo 1.2 MPI Highline                5.15   \n",
              "\n",
              "   kms_driven fuel_type transmission  ownership  manufacture   engine    Seats  \n",
              "0  86,226 kms    Diesel       Manual  1st Owner         2017  1956 cc  5 Seats  \n",
              "1  13,248 kms    Petrol    Automatic  1st Owner         2021  1330 cc  5 Seats  \n",
              "2  60,343 kms    Petrol    Automatic  1st Owner         2016  2494 cc  5 Seats  \n",
              "3  26,696 kms    Petrol    Automatic  1st Owner         2018  1199 cc  5 Seats  \n",
              "4  69,414 kms    Petrol       Manual  1st Owner         2016  1199 cc  5 Seats  "
            ],
            "text/html": [
              "\n",
              "  <div id=\"df-714ac535-d0ca-4daa-a755-27c97d600fdb\">\n",
              "    <div class=\"colab-df-container\">\n",
              "      <div>\n",
              "<style scoped>\n",
              "    .dataframe tbody tr th:only-of-type {\n",
              "        vertical-align: middle;\n",
              "    }\n",
              "\n",
              "    .dataframe tbody tr th {\n",
              "        vertical-align: top;\n",
              "    }\n",
              "\n",
              "    .dataframe thead th {\n",
              "        text-align: right;\n",
              "    }\n",
              "</style>\n",
              "<table border=\"1\" class=\"dataframe\">\n",
              "  <thead>\n",
              "    <tr style=\"text-align: right;\">\n",
              "      <th></th>\n",
              "      <th>Unnamed: 0</th>\n",
              "      <th>car_name</th>\n",
              "      <th>car_prices_in_lakh</th>\n",
              "      <th>kms_driven</th>\n",
              "      <th>fuel_type</th>\n",
              "      <th>transmission</th>\n",
              "      <th>ownership</th>\n",
              "      <th>manufacture</th>\n",
              "      <th>engine</th>\n",
              "      <th>Seats</th>\n",
              "    </tr>\n",
              "  </thead>\n",
              "  <tbody>\n",
              "    <tr>\n",
              "      <th>0</th>\n",
              "      <td>0</td>\n",
              "      <td>Jeep Compass 2.0 Longitude Option BSIV</td>\n",
              "      <td>10.03</td>\n",
              "      <td>86,226 kms</td>\n",
              "      <td>Diesel</td>\n",
              "      <td>Manual</td>\n",
              "      <td>1st Owner</td>\n",
              "      <td>2017</td>\n",
              "      <td>1956 cc</td>\n",
              "      <td>5 Seats</td>\n",
              "    </tr>\n",
              "    <tr>\n",
              "      <th>1</th>\n",
              "      <td>1</td>\n",
              "      <td>Renault Duster RXZ Turbo CVT</td>\n",
              "      <td>12.83</td>\n",
              "      <td>13,248 kms</td>\n",
              "      <td>Petrol</td>\n",
              "      <td>Automatic</td>\n",
              "      <td>1st Owner</td>\n",
              "      <td>2021</td>\n",
              "      <td>1330 cc</td>\n",
              "      <td>5 Seats</td>\n",
              "    </tr>\n",
              "    <tr>\n",
              "      <th>2</th>\n",
              "      <td>2</td>\n",
              "      <td>Toyota Camry 2.5 G</td>\n",
              "      <td>16.40</td>\n",
              "      <td>60,343 kms</td>\n",
              "      <td>Petrol</td>\n",
              "      <td>Automatic</td>\n",
              "      <td>1st Owner</td>\n",
              "      <td>2016</td>\n",
              "      <td>2494 cc</td>\n",
              "      <td>5 Seats</td>\n",
              "    </tr>\n",
              "    <tr>\n",
              "      <th>3</th>\n",
              "      <td>3</td>\n",
              "      <td>Honda Jazz VX CVT</td>\n",
              "      <td>7.77</td>\n",
              "      <td>26,696 kms</td>\n",
              "      <td>Petrol</td>\n",
              "      <td>Automatic</td>\n",
              "      <td>1st Owner</td>\n",
              "      <td>2018</td>\n",
              "      <td>1199 cc</td>\n",
              "      <td>5 Seats</td>\n",
              "    </tr>\n",
              "    <tr>\n",
              "      <th>4</th>\n",
              "      <td>4</td>\n",
              "      <td>Volkswagen Polo 1.2 MPI Highline</td>\n",
              "      <td>5.15</td>\n",
              "      <td>69,414 kms</td>\n",
              "      <td>Petrol</td>\n",
              "      <td>Manual</td>\n",
              "      <td>1st Owner</td>\n",
              "      <td>2016</td>\n",
              "      <td>1199 cc</td>\n",
              "      <td>5 Seats</td>\n",
              "    </tr>\n",
              "  </tbody>\n",
              "</table>\n",
              "</div>\n",
              "      <button class=\"colab-df-convert\" onclick=\"convertToInteractive('df-714ac535-d0ca-4daa-a755-27c97d600fdb')\"\n",
              "              title=\"Convert this dataframe to an interactive table.\"\n",
              "              style=\"display:none;\">\n",
              "        \n",
              "  <svg xmlns=\"http://www.w3.org/2000/svg\" height=\"24px\"viewBox=\"0 0 24 24\"\n",
              "       width=\"24px\">\n",
              "    <path d=\"M0 0h24v24H0V0z\" fill=\"none\"/>\n",
              "    <path d=\"M18.56 5.44l.94 2.06.94-2.06 2.06-.94-2.06-.94-.94-2.06-.94 2.06-2.06.94zm-11 1L8.5 8.5l.94-2.06 2.06-.94-2.06-.94L8.5 2.5l-.94 2.06-2.06.94zm10 10l.94 2.06.94-2.06 2.06-.94-2.06-.94-.94-2.06-.94 2.06-2.06.94z\"/><path d=\"M17.41 7.96l-1.37-1.37c-.4-.4-.92-.59-1.43-.59-.52 0-1.04.2-1.43.59L10.3 9.45l-7.72 7.72c-.78.78-.78 2.05 0 2.83L4 21.41c.39.39.9.59 1.41.59.51 0 1.02-.2 1.41-.59l7.78-7.78 2.81-2.81c.8-.78.8-2.07 0-2.86zM5.41 20L4 18.59l7.72-7.72 1.47 1.35L5.41 20z\"/>\n",
              "  </svg>\n",
              "      </button>\n",
              "      \n",
              "  <style>\n",
              "    .colab-df-container {\n",
              "      display:flex;\n",
              "      flex-wrap:wrap;\n",
              "      gap: 12px;\n",
              "    }\n",
              "\n",
              "    .colab-df-convert {\n",
              "      background-color: #E8F0FE;\n",
              "      border: none;\n",
              "      border-radius: 50%;\n",
              "      cursor: pointer;\n",
              "      display: none;\n",
              "      fill: #1967D2;\n",
              "      height: 32px;\n",
              "      padding: 0 0 0 0;\n",
              "      width: 32px;\n",
              "    }\n",
              "\n",
              "    .colab-df-convert:hover {\n",
              "      background-color: #E2EBFA;\n",
              "      box-shadow: 0px 1px 2px rgba(60, 64, 67, 0.3), 0px 1px 3px 1px rgba(60, 64, 67, 0.15);\n",
              "      fill: #174EA6;\n",
              "    }\n",
              "\n",
              "    [theme=dark] .colab-df-convert {\n",
              "      background-color: #3B4455;\n",
              "      fill: #D2E3FC;\n",
              "    }\n",
              "\n",
              "    [theme=dark] .colab-df-convert:hover {\n",
              "      background-color: #434B5C;\n",
              "      box-shadow: 0px 1px 3px 1px rgba(0, 0, 0, 0.15);\n",
              "      filter: drop-shadow(0px 1px 2px rgba(0, 0, 0, 0.3));\n",
              "      fill: #FFFFFF;\n",
              "    }\n",
              "  </style>\n",
              "\n",
              "      <script>\n",
              "        const buttonEl =\n",
              "          document.querySelector('#df-714ac535-d0ca-4daa-a755-27c97d600fdb button.colab-df-convert');\n",
              "        buttonEl.style.display =\n",
              "          google.colab.kernel.accessAllowed ? 'block' : 'none';\n",
              "\n",
              "        async function convertToInteractive(key) {\n",
              "          const element = document.querySelector('#df-714ac535-d0ca-4daa-a755-27c97d600fdb');\n",
              "          const dataTable =\n",
              "            await google.colab.kernel.invokeFunction('convertToInteractive',\n",
              "                                                     [key], {});\n",
              "          if (!dataTable) return;\n",
              "\n",
              "          const docLinkHtml = 'Like what you see? Visit the ' +\n",
              "            '<a target=\"_blank\" href=https://colab.research.google.com/notebooks/data_table.ipynb>data table notebook</a>'\n",
              "            + ' to learn more about interactive tables.';\n",
              "          element.innerHTML = '';\n",
              "          dataTable['output_type'] = 'display_data';\n",
              "          await google.colab.output.renderOutput(dataTable, element);\n",
              "          const docLink = document.createElement('div');\n",
              "          docLink.innerHTML = docLinkHtml;\n",
              "          element.appendChild(docLink);\n",
              "        }\n",
              "      </script>\n",
              "    </div>\n",
              "  </div>\n",
              "  "
            ]
          },
          "metadata": {},
          "execution_count": 280
        }
      ]
    },
    {
      "cell_type": "code",
      "source": [
        "df.info()"
      ],
      "metadata": {
        "colab": {
          "base_uri": "https://localhost:8080/"
        },
        "id": "5RlmZlNra1AI",
        "outputId": "bbb79717-641f-417d-e871-3d5a6bf15c7c"
      },
      "id": "5RlmZlNra1AI",
      "execution_count": 281,
      "outputs": [
        {
          "output_type": "stream",
          "name": "stdout",
          "text": [
            "<class 'pandas.core.frame.DataFrame'>\n",
            "RangeIndex: 5512 entries, 0 to 5511\n",
            "Data columns (total 10 columns):\n",
            " #   Column              Non-Null Count  Dtype  \n",
            "---  ------              --------------  -----  \n",
            " 0   Unnamed: 0          5512 non-null   int64  \n",
            " 1   car_name            5512 non-null   object \n",
            " 2   car_prices_in_lakh  5512 non-null   float64\n",
            " 3   kms_driven          5512 non-null   object \n",
            " 4   fuel_type           5512 non-null   object \n",
            " 5   transmission        5512 non-null   object \n",
            " 6   ownership           5512 non-null   object \n",
            " 7   manufacture         5512 non-null   int64  \n",
            " 8   engine              5512 non-null   object \n",
            " 9   Seats               5512 non-null   object \n",
            "dtypes: float64(1), int64(2), object(7)\n",
            "memory usage: 430.8+ KB\n"
          ]
        }
      ]
    },
    {
      "cell_type": "code",
      "source": [
        "#ahora convertiré a valores numéricos kms_driven \n",
        "df[\"kms_driven\"]=df[\"kms_driven\"].str.replace(\"kms\",\"\")\n",
        "df[\"kms_driven\"]=df[\"kms_driven\"].str.replace(\",\",\"\")\n",
        "df[\"kms_driven\"]=df[\"kms_driven\"].str.replace(\".\",\"\")\n",
        "df[\"kms_driven\"] = df[\"kms_driven\"].astype(int)"
      ],
      "metadata": {
        "colab": {
          "base_uri": "https://localhost:8080/"
        },
        "id": "CgmKviw920R8",
        "outputId": "2dc4e9cd-a6d0-4dde-8c85-9a62d2352e37"
      },
      "id": "CgmKviw920R8",
      "execution_count": 282,
      "outputs": [
        {
          "output_type": "stream",
          "name": "stderr",
          "text": [
            "<ipython-input-282-e1a686bb6331>:4: FutureWarning: The default value of regex will change from True to False in a future version. In addition, single character regular expressions will *not* be treated as literal strings when regex=True.\n",
            "  df[\"kms_driven\"]=df[\"kms_driven\"].str.replace(\".\",\"\")\n"
          ]
        }
      ]
    },
    {
      "cell_type": "code",
      "source": [
        "df.info()"
      ],
      "metadata": {
        "colab": {
          "base_uri": "https://localhost:8080/"
        },
        "id": "GyUQcjy-g4M2",
        "outputId": "2a3fbe5a-92a3-48b8-8c83-65e5e89ab642"
      },
      "id": "GyUQcjy-g4M2",
      "execution_count": 283,
      "outputs": [
        {
          "output_type": "stream",
          "name": "stdout",
          "text": [
            "<class 'pandas.core.frame.DataFrame'>\n",
            "RangeIndex: 5512 entries, 0 to 5511\n",
            "Data columns (total 10 columns):\n",
            " #   Column              Non-Null Count  Dtype  \n",
            "---  ------              --------------  -----  \n",
            " 0   Unnamed: 0          5512 non-null   int64  \n",
            " 1   car_name            5512 non-null   object \n",
            " 2   car_prices_in_lakh  5512 non-null   float64\n",
            " 3   kms_driven          5512 non-null   int64  \n",
            " 4   fuel_type           5512 non-null   object \n",
            " 5   transmission        5512 non-null   object \n",
            " 6   ownership           5512 non-null   object \n",
            " 7   manufacture         5512 non-null   int64  \n",
            " 8   engine              5512 non-null   object \n",
            " 9   Seats               5512 non-null   object \n",
            "dtypes: float64(1), int64(3), object(6)\n",
            "memory usage: 430.8+ KB\n"
          ]
        }
      ]
    },
    {
      "cell_type": "code",
      "source": [
        "#ahora voy a a convertir lo valores de ownership a númericos, como los valores aumentan, la secuencia de 0 a 5 funciona y \n",
        "#y no es necesario la codificacióno binaria. \n",
        "df[\"ownership\"]=df[\"ownership\"].str.replace(\"0th Owner\",\"0\")\n",
        "df[\"ownership\"]=df[\"ownership\"].str.replace(\"1st Owner\",\"1\")\n",
        "df[\"ownership\"]=df[\"ownership\"].str.replace(\"2nd Owner\",\"2\")\n",
        "df[\"ownership\"]=df[\"ownership\"].str.replace(\"3rd Owner\",\"3\")\n",
        "df[\"ownership\"]=df[\"ownership\"].str.replace(\"4th Owner\",\"4\")\n",
        "df[\"ownership\"]=df[\"ownership\"].str.replace(\"5th Owner\",\"5\")\n",
        "df[\"ownership\"] = df[\"ownership\"].astype(int)"
      ],
      "metadata": {
        "id": "Edp_eR_NhF_7"
      },
      "id": "Edp_eR_NhF_7",
      "execution_count": 284,
      "outputs": []
    },
    {
      "cell_type": "code",
      "source": [
        "df.info()"
      ],
      "metadata": {
        "colab": {
          "base_uri": "https://localhost:8080/"
        },
        "id": "0w9UpMk3j0IN",
        "outputId": "282e8518-f07a-408a-f383-63c01e16f998"
      },
      "id": "0w9UpMk3j0IN",
      "execution_count": 285,
      "outputs": [
        {
          "output_type": "stream",
          "name": "stdout",
          "text": [
            "<class 'pandas.core.frame.DataFrame'>\n",
            "RangeIndex: 5512 entries, 0 to 5511\n",
            "Data columns (total 10 columns):\n",
            " #   Column              Non-Null Count  Dtype  \n",
            "---  ------              --------------  -----  \n",
            " 0   Unnamed: 0          5512 non-null   int64  \n",
            " 1   car_name            5512 non-null   object \n",
            " 2   car_prices_in_lakh  5512 non-null   float64\n",
            " 3   kms_driven          5512 non-null   int64  \n",
            " 4   fuel_type           5512 non-null   object \n",
            " 5   transmission        5512 non-null   object \n",
            " 6   ownership           5512 non-null   int64  \n",
            " 7   manufacture         5512 non-null   int64  \n",
            " 8   engine              5512 non-null   object \n",
            " 9   Seats               5512 non-null   object \n",
            "dtypes: float64(1), int64(4), object(5)\n",
            "memory usage: 430.8+ KB\n"
          ]
        }
      ]
    },
    {
      "cell_type": "code",
      "source": [
        "#ahora voy a a convertir lo valores de engine a númericos\n",
        "df[\"engine\"]=df[\"engine\"].str.replace(\"cc\",\"\")\n",
        "df[\"engine\"] = df[\"engine\"].astype(int)"
      ],
      "metadata": {
        "id": "5GyzZaJSj61D"
      },
      "id": "5GyzZaJSj61D",
      "execution_count": 286,
      "outputs": []
    },
    {
      "cell_type": "code",
      "source": [
        "df.info()"
      ],
      "metadata": {
        "colab": {
          "base_uri": "https://localhost:8080/"
        },
        "id": "Q4EDH4B3kIdE",
        "outputId": "c96190a7-f2da-41a9-fb67-af45d533f340"
      },
      "id": "Q4EDH4B3kIdE",
      "execution_count": 287,
      "outputs": [
        {
          "output_type": "stream",
          "name": "stdout",
          "text": [
            "<class 'pandas.core.frame.DataFrame'>\n",
            "RangeIndex: 5512 entries, 0 to 5511\n",
            "Data columns (total 10 columns):\n",
            " #   Column              Non-Null Count  Dtype  \n",
            "---  ------              --------------  -----  \n",
            " 0   Unnamed: 0          5512 non-null   int64  \n",
            " 1   car_name            5512 non-null   object \n",
            " 2   car_prices_in_lakh  5512 non-null   float64\n",
            " 3   kms_driven          5512 non-null   int64  \n",
            " 4   fuel_type           5512 non-null   object \n",
            " 5   transmission        5512 non-null   object \n",
            " 6   ownership           5512 non-null   int64  \n",
            " 7   manufacture         5512 non-null   int64  \n",
            " 8   engine              5512 non-null   int64  \n",
            " 9   Seats               5512 non-null   object \n",
            "dtypes: float64(1), int64(5), object(4)\n",
            "memory usage: 430.8+ KB\n"
          ]
        }
      ]
    },
    {
      "cell_type": "code",
      "source": [
        "#ahora voy a a convertir lo valores de  Seats a númericos\n",
        "df = df.rename(columns={\"Seats\": \"seats\"})\n",
        "df[\"seats\"]=df[\"seats\"].str.replace(\"2 Seats\",\"2\")\n",
        "df[\"seats\"]=df[\"seats\"].str.replace(\"4 Seats\",\"4\")\n",
        "df[\"seats\"]=df[\"seats\"].str.replace(\"5 Seats\",\"5\")\n",
        "df[\"seats\"]=df[\"seats\"].str.replace(\"6 Seats\",\"6\")\n",
        "df[\"seats\"]=df[\"seats\"].str.replace(\"7 Seats\",\"7\")\n",
        "df[\"seats\"]=df[\"seats\"].str.replace(\"8 Seats\",\"8\")\n",
        "df[\"seats\"] = df[\"seats\"].astype(int)"
      ],
      "metadata": {
        "id": "VbQfDyqmkUmv"
      },
      "id": "VbQfDyqmkUmv",
      "execution_count": 288,
      "outputs": []
    },
    {
      "cell_type": "code",
      "source": [
        "df.info()"
      ],
      "metadata": {
        "colab": {
          "base_uri": "https://localhost:8080/"
        },
        "id": "lMAQOnpnl48S",
        "outputId": "8a0c60da-f615-4071-e645-55a8a2317ac4"
      },
      "id": "lMAQOnpnl48S",
      "execution_count": 289,
      "outputs": [
        {
          "output_type": "stream",
          "name": "stdout",
          "text": [
            "<class 'pandas.core.frame.DataFrame'>\n",
            "RangeIndex: 5512 entries, 0 to 5511\n",
            "Data columns (total 10 columns):\n",
            " #   Column              Non-Null Count  Dtype  \n",
            "---  ------              --------------  -----  \n",
            " 0   Unnamed: 0          5512 non-null   int64  \n",
            " 1   car_name            5512 non-null   object \n",
            " 2   car_prices_in_lakh  5512 non-null   float64\n",
            " 3   kms_driven          5512 non-null   int64  \n",
            " 4   fuel_type           5512 non-null   object \n",
            " 5   transmission        5512 non-null   object \n",
            " 6   ownership           5512 non-null   int64  \n",
            " 7   manufacture         5512 non-null   int64  \n",
            " 8   engine              5512 non-null   int64  \n",
            " 9   seats               5512 non-null   int64  \n",
            "dtypes: float64(1), int64(6), object(3)\n",
            "memory usage: 430.8+ KB\n"
          ]
        }
      ]
    },
    {
      "cell_type": "code",
      "source": [
        "#voy a eliminar la columna de unnamed que no es relevante\n",
        "df = df.drop(\"Unnamed: 0\", axis=1)"
      ],
      "metadata": {
        "id": "uGlMs-7eqnwc"
      },
      "id": "uGlMs-7eqnwc",
      "execution_count": 316,
      "outputs": []
    },
    {
      "cell_type": "markdown",
      "id": "e4ef584c",
      "metadata": {
        "id": "e4ef584c"
      },
      "source": [
        "**Visualizaciones**"
      ]
    },
    {
      "cell_type": "code",
      "source": [
        "#en el primer gráfico voy a analizarel promedio del precio de los carros en el tiemó\n",
        "\n",
        "df_grouped = df.groupby(\"manufacture\").mean()\n",
        "\n",
        "plt.plot(df_grouped[\"car_prices_in_lakh\"],color=\"purple\")\n",
        "plt.xlabel(\"Año de fabricación\")\n",
        "plt.ylabel(\"Promedio de precio en lakhs de rupias\")\n",
        "plt.title(\"Promedio de precio de los carros por año\")\n",
        "\n",
        "plt.show()\n"
      ],
      "metadata": {
        "colab": {
          "base_uri": "https://localhost:8080/",
          "height": 295
        },
        "id": "KftPLL3KtXcV",
        "outputId": "5601877a-a272-4b90-f36f-fa1aa38363a0"
      },
      "id": "KftPLL3KtXcV",
      "execution_count": 295,
      "outputs": [
        {
          "output_type": "display_data",
          "data": {
            "text/plain": [
              "<Figure size 432x288 with 1 Axes>"
            ],
            "image/png": "[encoded data removed]"
          },
          "metadata": {
            "needs_background": "light"
          }
        }
      ]
    },
    {
      "cell_type": "markdown",
      "source": [
        "Se puede observar que el promedio del precio de carros ha aumentado con el paso dle tiempo, lo cual es lógico e intuitivo, pero pudo ser confirmado."
      ],
      "metadata": {
        "id": "K6ttDZMO0cTC"
      },
      "id": "K6ttDZMO0cTC"
    },
    {
      "cell_type": "code",
      "source": [
        "#ahora quiero analizar la influencia del número de dueños que ha tenido un carro en el costo.\n",
        "#Para ellos haré un gráfico de barras del promedio del precio de los carros en función del númer de dueños.\n",
        "df_grouped = df.groupby(\"ownership\").mean()\n",
        "\n",
        "sns.set_style(\"whitegrid\")\n",
        "plt.bar(df_grouped.index, df_grouped[\"car_prices_in_lakh\"],color=\"plum\",edgecolor = \"indigo\")\n",
        "plt.xlabel(\"Número de dueños\")\n",
        "plt.ylabel(\"Promedio de precio en lakhs de rupias\")\n",
        "plt.title(\"Precio de los carros por número de dueños\")\n",
        "\n",
        "\n",
        "plt.show()\n"
      ],
      "metadata": {
        "colab": {
          "base_uri": "https://localhost:8080/",
          "height": 295
        },
        "id": "symJddhwq3C-",
        "outputId": "dc76d535-7e3d-4803-ec21-f763ad91d78d"
      },
      "id": "symJddhwq3C-",
      "execution_count": 305,
      "outputs": [
        {
          "output_type": "display_data",
          "data": {
            "text/plain": [
              "<Figure size 432x288 with 1 Axes>"
            ],
            "image/png": "[encoded data removed]"
          },
          "metadata": {}
        }
      ]
    },
    {
      "cell_type": "markdown",
      "source": [
        "El precio de los carros tiende a disminuir a medida que ha tenido más dueños. Se evidencia un salto grande de 0 a 1; lo que quiere decir que cuando es nuevo, el precio es bastante más alto; cuando ha tenido de 1 en adelante la diferencia empiea a ser menos significativa. "
      ],
      "metadata": {
        "id": "Yh0itSBH15De"
      },
      "id": "Yh0itSBH15De"
    },
    {
      "cell_type": "code",
      "source": [
        "#AHora vamos a visualizar los 10 carros más caros\n",
        "\n",
        "df_grouped = df.groupby(\"car_name\").mean().sort_values(\"car_prices_in_lakh\", ascending=False).head(10)\n",
        "\n",
        "\n",
        "df_grouped[\"car_prices_in_lakh\"].plot(kind=\"barh\", color=\"cornflowerblue\")\n",
        "plt.xlabel(\"Promedio de precio en lakhs de rupias\")\n",
        "plt.title(\"Los 10 carros más costosos\")\n",
        "plt.grid()\n",
        "\n",
        "plt.show()"
      ],
      "metadata": {
        "colab": {
          "base_uri": "https://localhost:8080/",
          "height": 295
        },
        "id": "r6sotzsG2Orm",
        "outputId": "59c5e7c4-3ab9-4c18-944a-a79dde004191"
      },
      "id": "r6sotzsG2Orm",
      "execution_count": 310,
      "outputs": [
        {
          "output_type": "display_data",
          "data": {
            "text/plain": [
              "<Figure size 432x288 with 1 Axes>"
            ],
            "image/png": "[encoded data removed]"
          },
          "metadata": {}
        }
      ]
    },
    {
      "cell_type": "code",
      "source": [
        "# Ahora voy a comparar la distribución de precios por tipo de combustible\n",
        "sns.boxplot(x=\"fuel_type\", y=\"car_prices_in_lakh\", data=df)\n",
        "\n",
        "plt.title(\"Distribución de precios de carros por tipo de combustible\")\n",
        "plt.xlabel(\"Tipo de combustible\")\n",
        "plt.ylabel(\"Precio en lakhs de rupias\")\n",
        "\n",
        "plt.show()"
      ],
      "metadata": {
        "colab": {
          "base_uri": "https://localhost:8080/",
          "height": 295
        },
        "id": "UqeUSfF34HKv",
        "outputId": "00cffbbb-e032-49e7-e8f2-26fed0fa4a44"
      },
      "id": "UqeUSfF34HKv",
      "execution_count": 312,
      "outputs": [
        {
          "output_type": "display_data",
          "data": {
            "text/plain": [
              "<Figure size 432x288 with 1 Axes>"
            ],
            "image/png": "[encoded data removed]"
          },
          "metadata": {}
        }
      ]
    },
    {
      "cell_type": "code",
      "source": [
        "#mapa de calor de correlación e identificado cualquier correlaciones moderadas o fuertes entre el objetivo \n",
        "#y las características y/o entre una característica y otra\n",
        "\n",
        "corr = df.corr()\n",
        "\n",
        "plt.figure(figsize=(10,10))\n",
        "sns.heatmap(corr, annot=True, cmap=\"coolwarm\")\n",
        "plt.title(\"Matriz de correlación\")\n",
        "plt.xticks(rotation=45)\n",
        "\n",
        "\n",
        "plt.show()"
      ],
      "metadata": {
        "colab": {
          "base_uri": "https://localhost:8080/",
          "height": 670
        },
        "id": "lSDOPIWG6ZNe",
        "outputId": "c3f33abc-c855-49b5-eb0f-d1291d3adaa1"
      },
      "id": "lSDOPIWG6ZNe",
      "execution_count": 322,
      "outputs": [
        {
          "output_type": "display_data",
          "data": {
            "text/plain": [
              "<Figure size 720x720 with 2 Axes>"
            ],
            "image/png": "[encoded data removed]"
          },
          "metadata": {}
        }
      ]
    },
    {
      "cell_type": "markdown",
      "source": [
        "<ul> <li>Se evidencia una correlación fuerte y positiva entre \"engine\" y \"car prices\", lo que indica que a medida que el tamaño del motor de un automóvil aumenta, el precio también aumenta.</li> </ul> \n",
        "<ul> <li>*El cuadro de correlación manufacture con kms_driven tiene un valor de 0.48 indica que existe una correlación moderada negativa entre las dos variables, lo que significa que a medida que el año de fabricación aumenta, la cantidad de kilómetros que el automóvil ha sido conducido disminuye.</li> </ul>\n",
        "\n"
      ],
      "metadata": {
        "id": "xVQf9jiR8uNs"
      },
      "id": "xVQf9jiR8uNs"
    },
    {
      "cell_type": "markdown",
      "id": "b7c75138",
      "metadata": {
        "id": "b7c75138"
      },
      "source": [
        "### II.- Modelos\n"
      ]
    },
    {
      "cell_type": "code",
      "source": [],
      "metadata": {
        "id": "k8bJbLcU8iip"
      },
      "id": "k8bJbLcU8iip",
      "execution_count": null,
      "outputs": []
    },
    {
      "cell_type": "code",
      "source": [
        "#convierto las columnas categóricas, rimero fuel type\n",
        "fuel_dummies = pd.get_dummies(df[\"fuel_type\"], prefix=\"fuel_type\")\n",
        "df = pd.concat([df, fuel_dummies], axis=1)"
      ],
      "metadata": {
        "id": "zDQsvfr5kMl8"
      },
      "id": "zDQsvfr5kMl8",
      "execution_count": 207,
      "outputs": []
    },
    {
      "cell_type": "code",
      "source": [
        "df = df.drop(columns=\"fuel_type\")\n",
        "\n"
      ],
      "metadata": {
        "id": "MCJxsWBfnb5L"
      },
      "id": "MCJxsWBfnb5L",
      "execution_count": 208,
      "outputs": []
    },
    {
      "cell_type": "code",
      "source": [
        "df.head()"
      ],
      "metadata": {
        "colab": {
          "base_uri": "https://localhost:8080/",
          "height": 496
        },
        "id": "AyUVAPHNm0Hw",
        "outputId": "960448e3-7d66-439b-f9cf-41ee19d7e56a"
      },
      "id": "AyUVAPHNm0Hw",
      "execution_count": 209,
      "outputs": [
        {
          "output_type": "execute_result",
          "data": {
            "text/plain": [
              "                                 car_name  car_prices_in_lakh  kms_driven  \\\n",
              "0  Jeep Compass 2.0 Longitude Option BSIV               10.03       86226   \n",
              "1            Renault Duster RXZ Turbo CVT               12.83       13248   \n",
              "2                      Toyota Camry 2.5 G               16.40       60343   \n",
              "3                       Honda Jazz VX CVT                7.77       26696   \n",
              "4        Volkswagen Polo 1.2 MPI Highline                5.15       69414   \n",
              "\n",
              "  transmission  ownership  manufacture  engine  seats  fuel_type_Cng  \\\n",
              "0       Manual          1         2017    1956      5              0   \n",
              "1    Automatic          1         2021    1330      5              0   \n",
              "2    Automatic          1         2016    2494      5              0   \n",
              "3    Automatic          1         2018    1199      5              0   \n",
              "4       Manual          1         2016    1199      5              0   \n",
              "\n",
              "   fuel_type_Diesel  fuel_type_Electric  fuel_type_Lpg  fuel_type_Petrol  \n",
              "0                 1                   0              0                 0  \n",
              "1                 0                   0              0                 1  \n",
              "2                 0                   0              0                 1  \n",
              "3                 0                   0              0                 1  \n",
              "4                 0                   0              0                 1  "
            ],
            "text/html": [
              "\n",
              "  <div id=\"df-43f9f20a-8641-408e-9bfd-e67e4900d171\">\n",
              "    <div class=\"colab-df-container\">\n",
              "      <div>\n",
              "<style scoped>\n",
              "    .dataframe tbody tr th:only-of-type {\n",
              "        vertical-align: middle;\n",
              "    }\n",
              "\n",
              "    .dataframe tbody tr th {\n",
              "        vertical-align: top;\n",
              "    }\n",
              "\n",
              "    .dataframe thead th {\n",
              "        text-align: right;\n",
              "    }\n",
              "</style>\n",
              "<table border=\"1\" class=\"dataframe\">\n",
              "  <thead>\n",
              "    <tr style=\"text-align: right;\">\n",
              "      <th></th>\n",
              "      <th>car_name</th>\n",
              "      <th>car_prices_in_lakh</th>\n",
              "      <th>kms_driven</th>\n",
              "      <th>transmission</th>\n",
              "      <th>ownership</th>\n",
              "      <th>manufacture</th>\n",
              "      <th>engine</th>\n",
              "      <th>seats</th>\n",
              "      <th>fuel_type_Cng</th>\n",
              "      <th>fuel_type_Diesel</th>\n",
              "      <th>fuel_type_Electric</th>\n",
              "      <th>fuel_type_Lpg</th>\n",
              "      <th>fuel_type_Petrol</th>\n",
              "    </tr>\n",
              "  </thead>\n",
              "  <tbody>\n",
              "    <tr>\n",
              "      <th>0</th>\n",
              "      <td>Jeep Compass 2.0 Longitude Option BSIV</td>\n",
              "      <td>10.03</td>\n",
              "      <td>86226</td>\n",
              "      <td>Manual</td>\n",
              "      <td>1</td>\n",
              "      <td>2017</td>\n",
              "      <td>1956</td>\n",
              "      <td>5</td>\n",
              "      <td>0</td>\n",
              "      <td>1</td>\n",
              "      <td>0</td>\n",
              "      <td>0</td>\n",
              "      <td>0</td>\n",
              "    </tr>\n",
              "    <tr>\n",
              "      <th>1</th>\n",
              "      <td>Renault Duster RXZ Turbo CVT</td>\n",
              "      <td>12.83</td>\n",
              "      <td>13248</td>\n",
              "      <td>Automatic</td>\n",
              "      <td>1</td>\n",
              "      <td>2021</td>\n",
              "      <td>1330</td>\n",
              "      <td>5</td>\n",
              "      <td>0</td>\n",
              "      <td>0</td>\n",
              "      <td>0</td>\n",
              "      <td>0</td>\n",
              "      <td>1</td>\n",
              "    </tr>\n",
              "    <tr>\n",
              "      <th>2</th>\n",
              "      <td>Toyota Camry 2.5 G</td>\n",
              "      <td>16.40</td>\n",
              "      <td>60343</td>\n",
              "      <td>Automatic</td>\n",
              "      <td>1</td>\n",
              "      <td>2016</td>\n",
              "      <td>2494</td>\n",
              "      <td>5</td>\n",
              "      <td>0</td>\n",
              "      <td>0</td>\n",
              "      <td>0</td>\n",
              "      <td>0</td>\n",
              "      <td>1</td>\n",
              "    </tr>\n",
              "    <tr>\n",
              "      <th>3</th>\n",
              "      <td>Honda Jazz VX CVT</td>\n",
              "      <td>7.77</td>\n",
              "      <td>26696</td>\n",
              "      <td>Automatic</td>\n",
              "      <td>1</td>\n",
              "      <td>2018</td>\n",
              "      <td>1199</td>\n",
              "      <td>5</td>\n",
              "      <td>0</td>\n",
              "      <td>0</td>\n",
              "      <td>0</td>\n",
              "      <td>0</td>\n",
              "      <td>1</td>\n",
              "    </tr>\n",
              "    <tr>\n",
              "      <th>4</th>\n",
              "      <td>Volkswagen Polo 1.2 MPI Highline</td>\n",
              "      <td>5.15</td>\n",
              "      <td>69414</td>\n",
              "      <td>Manual</td>\n",
              "      <td>1</td>\n",
              "      <td>2016</td>\n",
              "      <td>1199</td>\n",
              "      <td>5</td>\n",
              "      <td>0</td>\n",
              "      <td>0</td>\n",
              "      <td>0</td>\n",
              "      <td>0</td>\n",
              "      <td>1</td>\n",
              "    </tr>\n",
              "  </tbody>\n",
              "</table>\n",
              "</div>\n",
              "      <button class=\"colab-df-convert\" onclick=\"convertToInteractive('df-43f9f20a-8641-408e-9bfd-e67e4900d171')\"\n",
              "              title=\"Convert this dataframe to an interactive table.\"\n",
              "              style=\"display:none;\">\n",
              "        \n",
              "  <svg xmlns=\"http://www.w3.org/2000/svg\" height=\"24px\"viewBox=\"0 0 24 24\"\n",
              "       width=\"24px\">\n",
              "    <path d=\"M0 0h24v24H0V0z\" fill=\"none\"/>\n",
              "    <path d=\"M18.56 5.44l.94 2.06.94-2.06 2.06-.94-2.06-.94-.94-2.06-.94 2.06-2.06.94zm-11 1L8.5 8.5l.94-2.06 2.06-.94-2.06-.94L8.5 2.5l-.94 2.06-2.06.94zm10 10l.94 2.06.94-2.06 2.06-.94-2.06-.94-.94-2.06-.94 2.06-2.06.94z\"/><path d=\"M17.41 7.96l-1.37-1.37c-.4-.4-.92-.59-1.43-.59-.52 0-1.04.2-1.43.59L10.3 9.45l-7.72 7.72c-.78.78-.78 2.05 0 2.83L4 21.41c.39.39.9.59 1.41.59.51 0 1.02-.2 1.41-.59l7.78-7.78 2.81-2.81c.8-.78.8-2.07 0-2.86zM5.41 20L4 18.59l7.72-7.72 1.47 1.35L5.41 20z\"/>\n",
              "  </svg>\n",
              "      </button>\n",
              "      \n",
              "  <style>\n",
              "    .colab-df-container {\n",
              "      display:flex;\n",
              "      flex-wrap:wrap;\n",
              "      gap: 12px;\n",
              "    }\n",
              "\n",
              "    .colab-df-convert {\n",
              "      background-color: #E8F0FE;\n",
              "      border: none;\n",
              "      border-radius: 50%;\n",
              "      cursor: pointer;\n",
              "      display: none;\n",
              "      fill: #1967D2;\n",
              "      height: 32px;\n",
              "      padding: 0 0 0 0;\n",
              "      width: 32px;\n",
              "    }\n",
              "\n",
              "    .colab-df-convert:hover {\n",
              "      background-color: #E2EBFA;\n",
              "      box-shadow: 0px 1px 2px rgba(60, 64, 67, 0.3), 0px 1px 3px 1px rgba(60, 64, 67, 0.15);\n",
              "      fill: #174EA6;\n",
              "    }\n",
              "\n",
              "    [theme=dark] .colab-df-convert {\n",
              "      background-color: #3B4455;\n",
              "      fill: #D2E3FC;\n",
              "    }\n",
              "\n",
              "    [theme=dark] .colab-df-convert:hover {\n",
              "      background-color: #434B5C;\n",
              "      box-shadow: 0px 1px 3px 1px rgba(0, 0, 0, 0.15);\n",
              "      filter: drop-shadow(0px 1px 2px rgba(0, 0, 0, 0.3));\n",
              "      fill: #FFFFFF;\n",
              "    }\n",
              "  </style>\n",
              "\n",
              "      <script>\n",
              "        const buttonEl =\n",
              "          document.querySelector('#df-43f9f20a-8641-408e-9bfd-e67e4900d171 button.colab-df-convert');\n",
              "        buttonEl.style.display =\n",
              "          google.colab.kernel.accessAllowed ? 'block' : 'none';\n",
              "\n",
              "        async function convertToInteractive(key) {\n",
              "          const element = document.querySelector('#df-43f9f20a-8641-408e-9bfd-e67e4900d171');\n",
              "          const dataTable =\n",
              "            await google.colab.kernel.invokeFunction('convertToInteractive',\n",
              "                                                     [key], {});\n",
              "          if (!dataTable) return;\n",
              "\n",
              "          const docLinkHtml = 'Like what you see? Visit the ' +\n",
              "            '<a target=\"_blank\" href=https://colab.research.google.com/notebooks/data_table.ipynb>data table notebook</a>'\n",
              "            + ' to learn more about interactive tables.';\n",
              "          element.innerHTML = '';\n",
              "          dataTable['output_type'] = 'display_data';\n",
              "          await google.colab.output.renderOutput(dataTable, element);\n",
              "          const docLink = document.createElement('div');\n",
              "          docLink.innerHTML = docLinkHtml;\n",
              "          element.appendChild(docLink);\n",
              "        }\n",
              "      </script>\n",
              "    </div>\n",
              "  </div>\n",
              "  "
            ]
          },
          "metadata": {},
          "execution_count": 209
        }
      ]
    },
    {
      "cell_type": "code",
      "source": [
        "df.info()"
      ],
      "metadata": {
        "colab": {
          "base_uri": "https://localhost:8080/"
        },
        "id": "reNIh9uWnJAG",
        "outputId": "8f853a67-9a8d-47ee-a892-ed8deabc4f0e"
      },
      "id": "reNIh9uWnJAG",
      "execution_count": 210,
      "outputs": [
        {
          "output_type": "stream",
          "name": "stdout",
          "text": [
            "<class 'pandas.core.frame.DataFrame'>\n",
            "RangeIndex: 5512 entries, 0 to 5511\n",
            "Data columns (total 13 columns):\n",
            " #   Column              Non-Null Count  Dtype  \n",
            "---  ------              --------------  -----  \n",
            " 0   car_name            5512 non-null   object \n",
            " 1   car_prices_in_lakh  5512 non-null   float64\n",
            " 2   kms_driven          5512 non-null   int64  \n",
            " 3   transmission        5512 non-null   object \n",
            " 4   ownership           5512 non-null   int64  \n",
            " 5   manufacture         5512 non-null   int64  \n",
            " 6   engine              5512 non-null   int64  \n",
            " 7   seats               5512 non-null   int64  \n",
            " 8   fuel_type_Cng       5512 non-null   uint8  \n",
            " 9   fuel_type_Diesel    5512 non-null   uint8  \n",
            " 10  fuel_type_Electric  5512 non-null   uint8  \n",
            " 11  fuel_type_Lpg       5512 non-null   uint8  \n",
            " 12  fuel_type_Petrol    5512 non-null   uint8  \n",
            "dtypes: float64(1), int64(5), object(2), uint8(5)\n",
            "memory usage: 371.5+ KB\n"
          ]
        }
      ]
    },
    {
      "cell_type": "code",
      "source": [
        "#continúo con transmission\n",
        "transmission_dummies = pd.get_dummies(df[\"transmission\"], prefix=\"transmission\")\n",
        "df = pd.concat([df, transmission_dummies], axis=1)"
      ],
      "metadata": {
        "id": "e2DVlPion8c8"
      },
      "id": "e2DVlPion8c8",
      "execution_count": 211,
      "outputs": []
    },
    {
      "cell_type": "code",
      "source": [
        "df = df.drop(columns=\"transmission\")"
      ],
      "metadata": {
        "id": "UvpVwb96ojL9"
      },
      "id": "UvpVwb96ojL9",
      "execution_count": 212,
      "outputs": []
    },
    {
      "cell_type": "code",
      "source": [
        "df.info()"
      ],
      "metadata": {
        "colab": {
          "base_uri": "https://localhost:8080/"
        },
        "id": "MQ8pZKlPogSd",
        "outputId": "74862ef7-c546-4d52-8fb1-a8e6012ee09f"
      },
      "id": "MQ8pZKlPogSd",
      "execution_count": 213,
      "outputs": [
        {
          "output_type": "stream",
          "name": "stdout",
          "text": [
            "<class 'pandas.core.frame.DataFrame'>\n",
            "RangeIndex: 5512 entries, 0 to 5511\n",
            "Data columns (total 14 columns):\n",
            " #   Column                  Non-Null Count  Dtype  \n",
            "---  ------                  --------------  -----  \n",
            " 0   car_name                5512 non-null   object \n",
            " 1   car_prices_in_lakh      5512 non-null   float64\n",
            " 2   kms_driven              5512 non-null   int64  \n",
            " 3   ownership               5512 non-null   int64  \n",
            " 4   manufacture             5512 non-null   int64  \n",
            " 5   engine                  5512 non-null   int64  \n",
            " 6   seats                   5512 non-null   int64  \n",
            " 7   fuel_type_Cng           5512 non-null   uint8  \n",
            " 8   fuel_type_Diesel        5512 non-null   uint8  \n",
            " 9   fuel_type_Electric      5512 non-null   uint8  \n",
            " 10  fuel_type_Lpg           5512 non-null   uint8  \n",
            " 11  fuel_type_Petrol        5512 non-null   uint8  \n",
            " 12  transmission_Automatic  5512 non-null   uint8  \n",
            " 13  transmission_Manual     5512 non-null   uint8  \n",
            "dtypes: float64(1), int64(5), object(1), uint8(7)\n",
            "memory usage: 339.2+ KB\n"
          ]
        }
      ]
    },
    {
      "cell_type": "code",
      "source": [
        "#finalmente la columna car_name\n",
        "car_name_dummies = pd.get_dummies(df[\"car_name\"], prefix=\"car_name\")\n",
        "df = pd.concat([df, car_name_dummies], axis=1)"
      ],
      "metadata": {
        "id": "I4LUzMiconyj"
      },
      "id": "I4LUzMiconyj",
      "execution_count": 214,
      "outputs": []
    },
    {
      "cell_type": "code",
      "source": [
        "df = df.drop(columns=\"car_name\")"
      ],
      "metadata": {
        "id": "YULsEjMepEyM"
      },
      "id": "YULsEjMepEyM",
      "execution_count": 215,
      "outputs": []
    },
    {
      "cell_type": "code",
      "source": [
        "df.info()"
      ],
      "metadata": {
        "colab": {
          "base_uri": "https://localhost:8080/"
        },
        "id": "w24ZvL1Do4rb",
        "outputId": "e9cb4b42-d3a6-4920-a032-2010ec5301c5"
      },
      "id": "w24ZvL1Do4rb",
      "execution_count": 216,
      "outputs": [
        {
          "output_type": "stream",
          "name": "stdout",
          "text": [
            "<class 'pandas.core.frame.DataFrame'>\n",
            "RangeIndex: 5512 entries, 0 to 5511\n",
            "Columns: 1909 entries, car_prices_in_lakh to car_name_Volvo XC60 Inscription D5 BSIV\n",
            "dtypes: float64(1), int64(5), uint8(1903)\n",
            "memory usage: 10.3 MB\n"
          ]
        }
      ]
    },
    {
      "cell_type": "code",
      "source": [
        "df.head()"
      ],
      "metadata": {
        "colab": {
          "base_uri": "https://localhost:8080/",
          "height": 351
        },
        "id": "zi3Re7J0pepM",
        "outputId": "addbc534-04b8-484d-c3f8-8d78387d1073"
      },
      "id": "zi3Re7J0pepM",
      "execution_count": 217,
      "outputs": [
        {
          "output_type": "execute_result",
          "data": {
            "text/plain": [
              "   car_prices_in_lakh  kms_driven  ownership  manufacture  engine  seats  \\\n",
              "0               10.03       86226          1         2017    1956      5   \n",
              "1               12.83       13248          1         2021    1330      5   \n",
              "2               16.40       60343          1         2016    2494      5   \n",
              "3                7.77       26696          1         2018    1199      5   \n",
              "4                5.15       69414          1         2016    1199      5   \n",
              "\n",
              "   fuel_type_Cng  fuel_type_Diesel  fuel_type_Electric  fuel_type_Lpg  ...  \\\n",
              "0              0                 1                   0              0  ...   \n",
              "1              0                 0                   0              0  ...   \n",
              "2              0                 0                   0              0  ...   \n",
              "3              0                 0                   0              0  ...   \n",
              "4              0                 0                   0              0  ...   \n",
              "\n",
              "   car_name_Volvo V40 Cross Country D3  car_name_Volvo XC 90 D5 Inscription  \\\n",
              "0                                    0                                    0   \n",
              "1                                    0                                    0   \n",
              "2                                    0                                    0   \n",
              "3                                    0                                    0   \n",
              "4                                    0                                    0   \n",
              "\n",
              "   car_name_Volvo XC 90 D5 Inscription BSIV  \\\n",
              "0                                         0   \n",
              "1                                         0   \n",
              "2                                         0   \n",
              "3                                         0   \n",
              "4                                         0   \n",
              "\n",
              "   car_name_Volvo XC 90 D5 Momentum BSIV  car_name_Volvo XC60 B5 Inscripition  \\\n",
              "0                                      0                                    0   \n",
              "1                                      0                                    0   \n",
              "2                                      0                                    0   \n",
              "3                                      0                                    0   \n",
              "4                                      0                                    0   \n",
              "\n",
              "   car_name_Volvo XC60 D4 Summum  car_name_Volvo XC60 D5 Inscription  \\\n",
              "0                              0                                   0   \n",
              "1                              0                                   0   \n",
              "2                              0                                   0   \n",
              "3                              0                                   0   \n",
              "4                              0                                   0   \n",
              "\n",
              "   car_name_Volvo XC60 D5 Summum  car_name_Volvo XC60 Inscription D5  \\\n",
              "0                              0                                   0   \n",
              "1                              0                                   0   \n",
              "2                              0                                   0   \n",
              "3                              0                                   0   \n",
              "4                              0                                   0   \n",
              "\n",
              "   car_name_Volvo XC60 Inscription D5 BSIV  \n",
              "0                                        0  \n",
              "1                                        0  \n",
              "2                                        0  \n",
              "3                                        0  \n",
              "4                                        0  \n",
              "\n",
              "[5 rows x 1909 columns]"
            ],
            "text/html": [
              "\n",
              "  <div id=\"df-989af45b-808c-4354-a0ba-2e776c7aa342\">\n",
              "    <div class=\"colab-df-container\">\n",
              "      <div>\n",
              "<style scoped>\n",
              "    .dataframe tbody tr th:only-of-type {\n",
              "        vertical-align: middle;\n",
              "    }\n",
              "\n",
              "    .dataframe tbody tr th {\n",
              "        vertical-align: top;\n",
              "    }\n",
              "\n",
              "    .dataframe thead th {\n",
              "        text-align: right;\n",
              "    }\n",
              "</style>\n",
              "<table border=\"1\" class=\"dataframe\">\n",
              "  <thead>\n",
              "    <tr style=\"text-align: right;\">\n",
              "      <th></th>\n",
              "      <th>car_prices_in_lakh</th>\n",
              "      <th>kms_driven</th>\n",
              "      <th>ownership</th>\n",
              "      <th>manufacture</th>\n",
              "      <th>engine</th>\n",
              "      <th>seats</th>\n",
              "      <th>fuel_type_Cng</th>\n",
              "      <th>fuel_type_Diesel</th>\n",
              "      <th>fuel_type_Electric</th>\n",
              "      <th>fuel_type_Lpg</th>\n",
              "      <th>...</th>\n",
              "      <th>car_name_Volvo V40 Cross Country D3</th>\n",
              "      <th>car_name_Volvo XC 90 D5 Inscription</th>\n",
              "      <th>car_name_Volvo XC 90 D5 Inscription BSIV</th>\n",
              "      <th>car_name_Volvo XC 90 D5 Momentum BSIV</th>\n",
              "      <th>car_name_Volvo XC60 B5 Inscripition</th>\n",
              "      <th>car_name_Volvo XC60 D4 Summum</th>\n",
              "      <th>car_name_Volvo XC60 D5 Inscription</th>\n",
              "      <th>car_name_Volvo XC60 D5 Summum</th>\n",
              "      <th>car_name_Volvo XC60 Inscription D5</th>\n",
              "      <th>car_name_Volvo XC60 Inscription D5 BSIV</th>\n",
              "    </tr>\n",
              "  </thead>\n",
              "  <tbody>\n",
              "    <tr>\n",
              "      <th>0</th>\n",
              "      <td>10.03</td>\n",
              "      <td>86226</td>\n",
              "      <td>1</td>\n",
              "      <td>2017</td>\n",
              "      <td>1956</td>\n",
              "      <td>5</td>\n",
              "      <td>0</td>\n",
              "      <td>1</td>\n",
              "      <td>0</td>\n",
              "      <td>0</td>\n",
              "      <td>...</td>\n",
              "      <td>0</td>\n",
              "      <td>0</td>\n",
              "      <td>0</td>\n",
              "      <td>0</td>\n",
              "      <td>0</td>\n",
              "      <td>0</td>\n",
              "      <td>0</td>\n",
              "      <td>0</td>\n",
              "      <td>0</td>\n",
              "      <td>0</td>\n",
              "    </tr>\n",
              "    <tr>\n",
              "      <th>1</th>\n",
              "      <td>12.83</td>\n",
              "      <td>13248</td>\n",
              "      <td>1</td>\n",
              "      <td>2021</td>\n",
              "      <td>1330</td>\n",
              "      <td>5</td>\n",
              "      <td>0</td>\n",
              "      <td>0</td>\n",
              "      <td>0</td>\n",
              "      <td>0</td>\n",
              "      <td>...</td>\n",
              "      <td>0</td>\n",
              "      <td>0</td>\n",
              "      <td>0</td>\n",
              "      <td>0</td>\n",
              "      <td>0</td>\n",
              "      <td>0</td>\n",
              "      <td>0</td>\n",
              "      <td>0</td>\n",
              "      <td>0</td>\n",
              "      <td>0</td>\n",
              "    </tr>\n",
              "    <tr>\n",
              "      <th>2</th>\n",
              "      <td>16.40</td>\n",
              "      <td>60343</td>\n",
              "      <td>1</td>\n",
              "      <td>2016</td>\n",
              "      <td>2494</td>\n",
              "      <td>5</td>\n",
              "      <td>0</td>\n",
              "      <td>0</td>\n",
              "      <td>0</td>\n",
              "      <td>0</td>\n",
              "      <td>...</td>\n",
              "      <td>0</td>\n",
              "      <td>0</td>\n",
              "      <td>0</td>\n",
              "      <td>0</td>\n",
              "      <td>0</td>\n",
              "      <td>0</td>\n",
              "      <td>0</td>\n",
              "      <td>0</td>\n",
              "      <td>0</td>\n",
              "      <td>0</td>\n",
              "    </tr>\n",
              "    <tr>\n",
              "      <th>3</th>\n",
              "      <td>7.77</td>\n",
              "      <td>26696</td>\n",
              "      <td>1</td>\n",
              "      <td>2018</td>\n",
              "      <td>1199</td>\n",
              "      <td>5</td>\n",
              "      <td>0</td>\n",
              "      <td>0</td>\n",
              "      <td>0</td>\n",
              "      <td>0</td>\n",
              "      <td>...</td>\n",
              "      <td>0</td>\n",
              "      <td>0</td>\n",
              "      <td>0</td>\n",
              "      <td>0</td>\n",
              "      <td>0</td>\n",
              "      <td>0</td>\n",
              "      <td>0</td>\n",
              "      <td>0</td>\n",
              "      <td>0</td>\n",
              "      <td>0</td>\n",
              "    </tr>\n",
              "    <tr>\n",
              "      <th>4</th>\n",
              "      <td>5.15</td>\n",
              "      <td>69414</td>\n",
              "      <td>1</td>\n",
              "      <td>2016</td>\n",
              "      <td>1199</td>\n",
              "      <td>5</td>\n",
              "      <td>0</td>\n",
              "      <td>0</td>\n",
              "      <td>0</td>\n",
              "      <td>0</td>\n",
              "      <td>...</td>\n",
              "      <td>0</td>\n",
              "      <td>0</td>\n",
              "      <td>0</td>\n",
              "      <td>0</td>\n",
              "      <td>0</td>\n",
              "      <td>0</td>\n",
              "      <td>0</td>\n",
              "      <td>0</td>\n",
              "      <td>0</td>\n",
              "      <td>0</td>\n",
              "    </tr>\n",
              "  </tbody>\n",
              "</table>\n",
              "<p>5 rows × 1909 columns</p>\n",
              "</div>\n",
              "      <button class=\"colab-df-convert\" onclick=\"convertToInteractive('df-989af45b-808c-4354-a0ba-2e776c7aa342')\"\n",
              "              title=\"Convert this dataframe to an interactive table.\"\n",
              "              style=\"display:none;\">\n",
              "        \n",
              "  <svg xmlns=\"http://www.w3.org/2000/svg\" height=\"24px\"viewBox=\"0 0 24 24\"\n",
              "       width=\"24px\">\n",
              "    <path d=\"M0 0h24v24H0V0z\" fill=\"none\"/>\n",
              "    <path d=\"M18.56 5.44l.94 2.06.94-2.06 2.06-.94-2.06-.94-.94-2.06-.94 2.06-2.06.94zm-11 1L8.5 8.5l.94-2.06 2.06-.94-2.06-.94L8.5 2.5l-.94 2.06-2.06.94zm10 10l.94 2.06.94-2.06 2.06-.94-2.06-.94-.94-2.06-.94 2.06-2.06.94z\"/><path d=\"M17.41 7.96l-1.37-1.37c-.4-.4-.92-.59-1.43-.59-.52 0-1.04.2-1.43.59L10.3 9.45l-7.72 7.72c-.78.78-.78 2.05 0 2.83L4 21.41c.39.39.9.59 1.41.59.51 0 1.02-.2 1.41-.59l7.78-7.78 2.81-2.81c.8-.78.8-2.07 0-2.86zM5.41 20L4 18.59l7.72-7.72 1.47 1.35L5.41 20z\"/>\n",
              "  </svg>\n",
              "      </button>\n",
              "      \n",
              "  <style>\n",
              "    .colab-df-container {\n",
              "      display:flex;\n",
              "      flex-wrap:wrap;\n",
              "      gap: 12px;\n",
              "    }\n",
              "\n",
              "    .colab-df-convert {\n",
              "      background-color: #E8F0FE;\n",
              "      border: none;\n",
              "      border-radius: 50%;\n",
              "      cursor: pointer;\n",
              "      display: none;\n",
              "      fill: #1967D2;\n",
              "      height: 32px;\n",
              "      padding: 0 0 0 0;\n",
              "      width: 32px;\n",
              "    }\n",
              "\n",
              "    .colab-df-convert:hover {\n",
              "      background-color: #E2EBFA;\n",
              "      box-shadow: 0px 1px 2px rgba(60, 64, 67, 0.3), 0px 1px 3px 1px rgba(60, 64, 67, 0.15);\n",
              "      fill: #174EA6;\n",
              "    }\n",
              "\n",
              "    [theme=dark] .colab-df-convert {\n",
              "      background-color: #3B4455;\n",
              "      fill: #D2E3FC;\n",
              "    }\n",
              "\n",
              "    [theme=dark] .colab-df-convert:hover {\n",
              "      background-color: #434B5C;\n",
              "      box-shadow: 0px 1px 3px 1px rgba(0, 0, 0, 0.15);\n",
              "      filter: drop-shadow(0px 1px 2px rgba(0, 0, 0, 0.3));\n",
              "      fill: #FFFFFF;\n",
              "    }\n",
              "  </style>\n",
              "\n",
              "      <script>\n",
              "        const buttonEl =\n",
              "          document.querySelector('#df-989af45b-808c-4354-a0ba-2e776c7aa342 button.colab-df-convert');\n",
              "        buttonEl.style.display =\n",
              "          google.colab.kernel.accessAllowed ? 'block' : 'none';\n",
              "\n",
              "        async function convertToInteractive(key) {\n",
              "          const element = document.querySelector('#df-989af45b-808c-4354-a0ba-2e776c7aa342');\n",
              "          const dataTable =\n",
              "            await google.colab.kernel.invokeFunction('convertToInteractive',\n",
              "                                                     [key], {});\n",
              "          if (!dataTable) return;\n",
              "\n",
              "          const docLinkHtml = 'Like what you see? Visit the ' +\n",
              "            '<a target=\"_blank\" href=https://colab.research.google.com/notebooks/data_table.ipynb>data table notebook</a>'\n",
              "            + ' to learn more about interactive tables.';\n",
              "          element.innerHTML = '';\n",
              "          dataTable['output_type'] = 'display_data';\n",
              "          await google.colab.output.renderOutput(dataTable, element);\n",
              "          const docLink = document.createElement('div');\n",
              "          docLink.innerHTML = docLinkHtml;\n",
              "          element.appendChild(docLink);\n",
              "        }\n",
              "      </script>\n",
              "    </div>\n",
              "  </div>\n",
              "  "
            ]
          },
          "metadata": {},
          "execution_count": 217
        }
      ]
    },
    {
      "cell_type": "code",
      "execution_count": null,
      "id": "d7c20f26",
      "metadata": {
        "id": "d7c20f26"
      },
      "outputs": [],
      "source": [
        "# solucion"
      ]
    },
    {
      "cell_type": "code",
      "execution_count": null,
      "id": "11ff347f",
      "metadata": {
        "id": "11ff347f"
      },
      "outputs": [],
      "source": [
        "# solucion"
      ]
    },
    {
      "cell_type": "markdown",
      "id": "36a8c534",
      "metadata": {
        "id": "36a8c534"
      },
      "source": [
        "## Conclusiones\n",
        "\n",
        "* Conclusión 01\n",
        "* Conclusión 02\n",
        "* ...\n"
      ]
    },
    {
      "cell_type": "markdown",
      "id": "8273c23d",
      "metadata": {
        "id": "8273c23d"
      },
      "source": [
        "## Referencias\n",
        "\n",
        "* [Curso MAT281_2022](https://github.com/fralfaro/MAT281_2022)\n",
        "* [Curso CodingDojo-DataScience](https://github.com/fralfaro/CodingDojo-DataScience)"
      ]
    }
  ],
  "metadata": {
    "kernelspec": {
      "display_name": "Python 3 (ipykernel)",
      "language": "python",
      "name": "python3"
    },
    "language_info": {
      "codemirror_mode": {
        "name": "ipython",
        "version": 3
      },
      "file_extension": ".py",
      "mimetype": "text/x-python",
      "name": "python",
      "nbconvert_exporter": "python",
      "pygments_lexer": "ipython3",
      "version": "3.8.5"
    },
    "colab": {
      "provenance": [],
      "include_colab_link": true
    }
  },
  "nbformat": 4,
  "nbformat_minor": 5
}